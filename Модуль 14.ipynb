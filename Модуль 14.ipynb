{
 "cells": [
  {
   "cell_type": "code",
   "execution_count": null,
   "metadata": {},
   "outputs": [],
   "source": [
    "#Чтение и запись в файл\n",
    "myFile = open('filename.txt')"
   ]
  },
  {
   "cell_type": "code",
   "execution_count": null,
   "metadata": {},
   "outputs": [],
   "source": [
    "myFile = open('filename.txt', 'rt') #r - на чтение, t - текстовый файл"
   ]
  },
  {
   "cell_type": "code",
   "execution_count": null,
   "metadata": {},
   "outputs": [],
   "source": [
    "myFile = open('filename.txt', 'rt', encoding='utf8') #для открытия файлов в русской кодировке"
   ]
  },
  {
   "cell_type": "code",
   "execution_count": 1,
   "metadata": {},
   "outputs": [
    {
     "name": "stdout",
     "output_type": "stream",
     "text": [
      "Lorem ipsum dolor sit amet, consectetur adipiscing elit. Etiam odio ipsum, commodo in posuere eget, egestas a risus. Mauris luctus quis ex ac dapibus. Mauris leo justo, imperdiet ac massa a, scelerisque tempus ipsum. Vestibulum gravida consequat nisi id tristique. Nulla vel feugiat arcu. Mauris scelerisque risus vel massa pulvinar euismod. In at tempor orci. In fringilla arcu eget leo rutrum congue. Cras placerat semper augue ac auctor. In a eros in leo tincidunt faucibus hendrerit vel orci. Fusce suscipit tortor diam, sit amet bibendum libero ornare in. Etiam sit amet diam viverra, porta est non, rutrum sapien. Etiam viverra augue purus, vitae dignissim sem ullamcorper vel.\n",
      "\n",
      "Sed sit amet arcu vitae magna tincidunt fringilla. Phasellus euismod ligula eros, ac vulputate lectus ornare eu. Quisque consequat quam at ipsum vehicula faucibus non molestie quam. Suspendisse nec libero eget dolor mollis ornare sit amet ut urna. Sed vitae consequat odio. Nulla faucibus viverra felis id ultrices. Suspendisse porta nibh sed mollis eleifend. Fusce hendrerit semper enim, vitae viverra risus consectetur a. Nunc bibendum nisi ut arcu interdum suscipit. Aliquam maximus nibh eget mi hendrerit congue.\n",
      "\n",
      "Ut viverra ornare sapien, eu aliquet purus tempor sed. Quisque in tincidunt ante. Proin egestas nibh elit, non vestibulum mauris venenatis a. Nulla non felis est. Curabitur rutrum urna sit amet ipsum ullamcorper fringilla. Lorem ipsum dolor sit amet, consectetur adipiscing elit. Nam eu varius tellus. Vestibulum at ultrices erat, vitae blandit metus. Pellentesque efficitur justo ac nunc molestie, ut vulputate ex fringilla. Quisque gravida eros sapien, id maximus est aliquet vel. Nullam imperdiet ut lacus sed sollicitudin.\n"
     ]
    }
   ],
   "source": [
    "myFile = open('bbb.txt')\n",
    "print(myFile.read())  #тип строка"
   ]
  },
  {
   "cell_type": "code",
   "execution_count": 2,
   "metadata": {},
   "outputs": [
    {
     "name": "stdout",
     "output_type": "stream",
     "text": [
      "Lorem ipsum dolor si\n"
     ]
    }
   ],
   "source": [
    "myFile = open('bbb.txt')\n",
    "print(myFile.read(20))  #можно ввести количество необходимых символов для вывода"
   ]
  },
  {
   "cell_type": "code",
   "execution_count": 3,
   "metadata": {},
   "outputs": [
    {
     "name": "stdout",
     "output_type": "stream",
     "text": [
      "['Lorem ipsum dolor sit amet, consectetur adipiscing elit. Etiam odio ipsum, commodo in posuere eget, egestas a risus. Mauris luctus quis ex ac dapibus. Mauris leo justo, imperdiet ac massa a, scelerisque tempus ipsum. Vestibulum gravida consequat nisi id tristique. Nulla vel feugiat arcu. Mauris scelerisque risus vel massa pulvinar euismod. In at tempor orci. In fringilla arcu eget leo rutrum congue. Cras placerat semper augue ac auctor. In a eros in leo tincidunt faucibus hendrerit vel orci. Fusce suscipit tortor diam, sit amet bibendum libero ornare in. Etiam sit amet diam viverra, porta est non, rutrum sapien. Etiam viverra augue purus, vitae dignissim sem ullamcorper vel.\\n', '\\n', 'Sed sit amet arcu vitae magna tincidunt fringilla. Phasellus euismod ligula eros, ac vulputate lectus ornare eu. Quisque consequat quam at ipsum vehicula faucibus non molestie quam. Suspendisse nec libero eget dolor mollis ornare sit amet ut urna. Sed vitae consequat odio. Nulla faucibus viverra felis id ultrices. Suspendisse porta nibh sed mollis eleifend. Fusce hendrerit semper enim, vitae viverra risus consectetur a. Nunc bibendum nisi ut arcu interdum suscipit. Aliquam maximus nibh eget mi hendrerit congue.\\n', '\\n', 'Ut viverra ornare sapien, eu aliquet purus tempor sed. Quisque in tincidunt ante. Proin egestas nibh elit, non vestibulum mauris venenatis a. Nulla non felis est. Curabitur rutrum urna sit amet ipsum ullamcorper fringilla. Lorem ipsum dolor sit amet, consectetur adipiscing elit. Nam eu varius tellus. Vestibulum at ultrices erat, vitae blandit metus. Pellentesque efficitur justo ac nunc molestie, ut vulputate ex fringilla. Quisque gravida eros sapien, id maximus est aliquet vel. Nullam imperdiet ut lacus sed sollicitudin.']\n"
     ]
    }
   ],
   "source": [
    "myFile = open('bbb.txt')\n",
    "print(myFile.readlines())  #представляет каждую строку текста как элемент списка"
   ]
  },
  {
   "cell_type": "code",
   "execution_count": 4,
   "metadata": {},
   "outputs": [
    {
     "name": "stdout",
     "output_type": "stream",
     "text": [
      "Lorem ipsum dolor sit amet, consectetur adipiscing elit. Etiam odio ipsum, commodo in posuere eget, egestas a risus. Mauris luctus quis ex ac dapibus. Mauris leo justo, imperdiet ac massa a, scelerisque tempus ipsum. Vestibulum gravida consequat nisi id tristique. Nulla vel feugiat arcu. Mauris scelerisque risus vel massa pulvinar euismod. In at tempor orci. In fringilla arcu eget leo rutrum congue. Cras placerat semper augue ac auctor. In a eros in leo tincidunt faucibus hendrerit vel orci. Fusce suscipit tortor diam, sit amet bibendum libero ornare in. Etiam sit amet diam viverra, porta est non, rutrum sapien. Etiam viverra augue purus, vitae dignissim sem ullamcorper vel.\n",
      "\n",
      "\n",
      "\n",
      "Sed sit amet arcu vitae magna tincidunt fringilla. Phasellus euismod ligula eros, ac vulputate lectus ornare eu. Quisque consequat quam at ipsum vehicula faucibus non molestie quam. Suspendisse nec libero eget dolor mollis ornare sit amet ut urna. Sed vitae consequat odio. Nulla faucibus viverra felis id ultrices. Suspendisse porta nibh sed mollis eleifend. Fusce hendrerit semper enim, vitae viverra risus consectetur a. Nunc bibendum nisi ut arcu interdum suscipit. Aliquam maximus nibh eget mi hendrerit congue.\n",
      "\n",
      "\n",
      "\n",
      "Ut viverra ornare sapien, eu aliquet purus tempor sed. Quisque in tincidunt ante. Proin egestas nibh elit, non vestibulum mauris venenatis a. Nulla non felis est. Curabitur rutrum urna sit amet ipsum ullamcorper fringilla. Lorem ipsum dolor sit amet, consectetur adipiscing elit. Nam eu varius tellus. Vestibulum at ultrices erat, vitae blandit metus. Pellentesque efficitur justo ac nunc molestie, ut vulputate ex fringilla. Quisque gravida eros sapien, id maximus est aliquet vel. Nullam imperdiet ut lacus sed sollicitudin.\n"
     ]
    }
   ],
   "source": [
    "myFile = open('bbb.txt')\n",
    "for line in myFile:\n",
    "    print(line)  #Возвращает по строчке"
   ]
  },
  {
   "cell_type": "code",
   "execution_count": 6,
   "metadata": {},
   "outputs": [],
   "source": [
    "myFile = open('namefile.txt', 'w')\n",
    "myFile.write('tttt')  #метод write + передаем строку, которую необходимо записать в файл\n",
    "print('zzzz', file=myFile) #второй вариант "
   ]
  },
  {
   "cell_type": "code",
   "execution_count": 7,
   "metadata": {},
   "outputs": [
    {
     "name": "stdout",
     "output_type": "stream",
     "text": [
      "ttttzzzz\n",
      "\n"
     ]
    }
   ],
   "source": [
    "with open('namefile.txt') as myFile:\n",
    "    for line in myFile:\n",
    "        print(line)"
   ]
  },
  {
   "cell_type": "code",
   "execution_count": 10,
   "metadata": {},
   "outputs": [
    {
     "name": "stdout",
     "output_type": "stream",
     "text": [
      "Введите число, на которое нужно сдвинуть текст: 4\n"
     ]
    }
   ],
   "source": [
    "alpha = 'абвгдеёжзийклмнопрстуфхцчшщъыьэюя'\n",
    "alphaUp = 'АБВГДЕЁЖЗИЙКЛМНОПРСТУФХЦЧШЩЪЫЬЭЮЯ'\n",
    "number = int(input('Введите число, на которое нужно сдвинуть текст: '))\n",
    "\n",
    "#введите = дджёкфж (+2 буквы)\n",
    "\n",
    "summary = ''\n",
    "\n",
    "def changeChar(char):\n",
    "    if char in alpha:\n",
    "        return alpha[(alpha.index(char) + number) % len(alpha)] #alpha.index(char) - поиск символа, number - число, которое ввели(например, буква в - индекс 2 + 5 = 7, это буква ж)\n",
    "    elif char in alphaUp:\n",
    "        return alphaUp[(alphaUp.index(char) + number) % len(alphaUp)]\n",
    "    else:\n",
    "        return char\n",
    "    \n",
    "with open(\"filename2.txt\", encoding=\"utf8\") as myFile:\n",
    "    for line in myFile:\n",
    "        for char in line:\n",
    "            summary += changeChar(char)\n",
    "\n",
    "        \n",
    "with open(\"output.txt\", 'w', encoding=\"utf8\") as myFile:\n",
    "    myFile.write(summary)\n",
    "\n",
    "    ''' Разберём этот код\n",
    "1. В первых двух строчках задаем алфавит, по которому будем ходить. Так как символы в верхнем и нижнем регистре отличаются, \n",
    "а мы не хотим, чтобы шифр ломал регистр, то задается два алфавита.\n",
    "2. Запрашиваем у пользователя число, которое будет сдвигом по шифру.\n",
    "3. Определяем переменную summary, это нужно на тот случай, если вдруг файл с текстом будет пустой.\n",
    "4. Определяем функцию, мы к ней ещё вернемся, пока идём дальше.\n",
    "5. Открываем файл, так как там русский текст, указываем кодировку.\n",
    "6. Читаем файл построчно.\n",
    "7. Каждую строку прогоняем через цикл, то есть идём по каждому символу. И тут, наконец, вызываем функцию.\n",
    "8. Функция проверяет, есть ли символ в маленьком или большом алфавите. Если нет, она просто возвращает сам символ, \n",
    "то есть знаки препинания, пробелы, переводы строк и прочее мы не меняем и оставляем как есть.\n",
    "9. Однако, если символ попадает в какой-то алфавит, тогда мы вычисляем положение этого символа в строке, сдвигаем его \n",
    "на введенное пользователем число. Остаток от деления на длину алфавита нужен для случая, когда пользователь ввёл число больше, \n",
    "чем длина алфавита, например, 35. Тогда остаток будет 2, то есть число 35, эквивалентно 2. Таким образом, мы добиваемся \n",
    "цикличности сдвига.\n",
    "10. В итоге функция возвращает либо неизменный символ, если это не буква русского алфавита, либо символ смещённый.\n",
    "11. Собираем из изменённых символов текст в переменную summary.\n",
    "12. Открываем на запись другой файл и записываем туда эту переменную.\n",
    "Теперь можно открыть исходный и получившийся файл и сравнить написанное.  \n",
    "filename.txt:\n",
    "Привет, мир! Я вижу тебя. \n",
    "Доброе утро!\n",
    "outut.txt:\n",
    "Уфмёиц, рмф! Г ёмкч циег. \n",
    "Зтефти чцфт!'''"
   ]
  },
  {
   "cell_type": "code",
   "execution_count": 11,
   "metadata": {},
   "outputs": [
    {
     "name": "stdout",
     "output_type": "stream",
     "text": [
      "..\\test\\filename.txt\n"
     ]
    }
   ],
   "source": [
    "#Задание 14.2.3\n",
    "import os\n",
    "print(os.path.join('..', 'test', 'filename.txt'))"
   ]
  },
  {
   "cell_type": "code",
   "execution_count": 1,
   "metadata": {},
   "outputs": [
    {
     "name": "stdout",
     "output_type": "stream",
     "text": [
      "-1  -1  -1  -1  -1  -1  -1  -1  -1  -1  -1  -1  \n",
      "-1   3   4   5   6   7   8   9  10  11  12  -1  \n",
      " 1   2  -1  -1  -1  -1   9  -1  11  -1  -1  -1  \n",
      "-1   3  -1  -1  10  11  10  11  12  -1  -1  -1  \n",
      "-1   4  -1  -1   9  -1  11  -1  -1  16  17  -1  \n",
      "-1   5   6   7   8  -1  12  13  14  15  16  -1  \n",
      "-1  -1   7  -1  -1  -1  -1  -1  -1  -1  17  -1  \n",
      "32  31  -1  29  -1  -1  26  27  -1  19  18  -1  \n",
      "-1  30  29  28  27  26  25  -1  21  20  -1  -1  \n",
      "-1  -1  -1  29  -1  25  24  23  22  -1  -1  -1  \n",
      "-1  -1  -1  -1  -1  -1  -1  -1  -1  -1  -1  -1  \n",
      "['Вправо', 'Вверх', 'Вправо', 'Вправо', 'Вправо', 'Вправо', 'Вправо', 'Вниз', 'Вниз', 'Вниз', 'Вниз', 'Вправо', 'Вправо', 'Вправо', 'Вправо', 'Вниз', 'Вниз', 'Влево', 'Вниз', 'Влево', 'Вниз', 'Влево', 'Влево', 'Влево', 'Вверх', 'Влево', 'Влево', 'Влево', 'Влево', 'Вверх', 'Влево']\n"
     ]
    }
   ],
   "source": [
    "def found(pathArr, finPoint):\n",
    "    weight = 1\n",
    "    for i in range(len(pathArr) * len(pathArr[0])):\n",
    "        for y in range(len(pathArr)):          \n",
    "            for x in range(len(pathArr[y])):                   \n",
    "                if pathArr[y][x] == weight:            \n",
    "                    #Вниз\n",
    "                    if y > 0 and pathArr[y - 1][x] == 0:\n",
    "                        pathArr[y - 1][x] = weight + 1 \n",
    "                           \n",
    "                    #Вверх\n",
    "                    if y < (len(pathArr) - 1) and pathArr[y + 1][x] == 0:\n",
    "                        pathArr[y + 1][x] = weight + 1\n",
    "                        \n",
    "                    #Вправо\n",
    "                    if x > 0 and pathArr[y][x - 1] == 0:\n",
    "                        pathArr[y][x - 1] = weight + 1\n",
    "                    \n",
    "                    #Влево\n",
    "                    if x < (len(pathArr[y]) - 1) and pathArr[y][x + 1] == 0:\n",
    "                        pathArr[y][x + 1] = weight + 1\n",
    "                           \n",
    "                    #Конечная точка        \n",
    "                    if (abs(y - finPoint[0]) + abs(x - finPoint[1])) == 1:\n",
    "                        pathArr[finPoint[0]][finPoint[1]] = weight + 1\n",
    "                        return True        \n",
    "        weight += 1   \n",
    "    return False      \n",
    " \n",
    "def printPath(pathArr, finPoint):      \n",
    "    y = finPoint[0]\n",
    "    x = finPoint[1]\n",
    "    weight = pathArr[y][x]\n",
    "    result = list(range(weight))\n",
    "    while (weight):\n",
    "        weight -= 1\n",
    "        if y > 0 and pathArr[y - 1][x] == weight:\n",
    "            result[weight] = 'Вниз' \n",
    "            y -= 1\n",
    "        elif y < (len(pathArr) - 1) and pathArr[y + 1][x] == weight:\n",
    "            result[weight] = 'Вверх' \n",
    "            y += 1\n",
    "        elif x > 0 and pathArr[y][x - 1] == weight:\n",
    "            result[weight] = 'Вправо' \n",
    "            x -= 1\n",
    "        elif x < (len(pathArr[y]) - 1) and pathArr[y][x + 1] == weight:\n",
    "            result[weight] = 'Влево' \n",
    "            x += 1\n",
    "            \n",
    "    return result[1:]\n",
    "            \n",
    "\n",
    "labirint = []\n",
    "with open(\"labirint.txt\") as myFile:\n",
    "    for line in myFile:\n",
    "        labirint.append(line.replace('\\n', '').split(' '))   \n",
    "            \n",
    "ii = 0\n",
    "for i in labirint:\n",
    "    jj = 0\n",
    "    for j in i:\n",
    "        if j == 'A':\n",
    "            labirint[ii][jj] = 1\n",
    "            pozIn = (ii, jj)\n",
    "        elif j == 'B':\n",
    "            labirint[ii][jj] = 0\n",
    "            pozOut = (ii, jj)            \n",
    "        elif j == '1':\n",
    "            labirint[ii][jj] = -1\n",
    "        else:\n",
    "            labirint[ii][jj] = 0\n",
    "        jj += 1\n",
    "    ii += 1\n",
    "    \n",
    "if not found(labirint, pozOut):\n",
    "    print(\"Путь не найден!\")\n",
    "else:\n",
    "    result = printPath(labirint, pozOut)\n",
    "\n",
    "    for i in labirint:\n",
    "        for line in i:\n",
    "            print(\"{:^3}\".format(line), end = \" \")\n",
    "        print()\n",
    "    print(result)"
   ]
  },
  {
   "cell_type": "code",
   "execution_count": 14,
   "metadata": {},
   "outputs": [
    {
     "name": "stdout",
     "output_type": "stream",
     "text": [
      "Владивосток\n"
     ]
    }
   ],
   "source": [
    "a = {\n",
    "\t\"firstName\":\"Иван\",\n",
    "\t\"lastName\":\"Иванов\",\n",
    "\t\"isAlive\":True,\n",
    "\t\"age\":32,\n",
    "\t\"address\":{\n",
    "\t\"streetAddress\":\"Нейбута 32\",\n",
    "\t\"city\":\"Владивосток\",\n",
    "\t\"state\":\"\",\n",
    "\t\"postalCode\":\"\"\n",
    "\t},\n",
    "\t\"phoneNumbers\":[\n",
    "\t   {\n",
    "\t      \"type\":\"mob\",\n",
    "\t      \"number\":\"123 111-4567\"\n",
    "\t}\n",
    "],\n",
    "\"children\":[\n",
    "\n",
    "],\n",
    "\"spouse\":None\n",
    "}\n",
    "print(a['address']['city'])"
   ]
  },
  {
   "cell_type": "code",
   "execution_count": 15,
   "metadata": {},
   "outputs": [
    {
     "ename": "JSONDecodeError",
     "evalue": "Expecting property name enclosed in double quotes: line 2 column 5 (char 6)",
     "output_type": "error",
     "traceback": [
      "\u001b[1;31m---------------------------------------------------------------------------\u001b[0m",
      "\u001b[1;31mJSONDecodeError\u001b[0m                           Traceback (most recent call last)",
      "\u001b[1;32m<ipython-input-15-abefe4beb268>\u001b[0m in \u001b[0;36m<module>\u001b[1;34m\u001b[0m\n\u001b[0;32m      3\u001b[0m \u001b[1;32mwith\u001b[0m \u001b[0mopen\u001b[0m\u001b[1;33m(\u001b[0m\u001b[1;34m'1423.json'\u001b[0m\u001b[1;33m,\u001b[0m \u001b[0mencoding\u001b[0m\u001b[1;33m=\u001b[0m\u001b[1;34m'utf8'\u001b[0m\u001b[1;33m)\u001b[0m \u001b[1;32mas\u001b[0m \u001b[0mf\u001b[0m\u001b[1;33m:\u001b[0m\u001b[1;33m\u001b[0m\u001b[1;33m\u001b[0m\u001b[0m\n\u001b[0;32m      4\u001b[0m     \u001b[0mstrfile\u001b[0m \u001b[1;33m=\u001b[0m \u001b[0mf\u001b[0m\u001b[1;33m.\u001b[0m\u001b[0mread\u001b[0m\u001b[1;33m(\u001b[0m\u001b[1;33m)\u001b[0m\u001b[1;33m\u001b[0m\u001b[1;33m\u001b[0m\u001b[0m\n\u001b[1;32m----> 5\u001b[1;33m     \u001b[0mtemplates\u001b[0m \u001b[1;33m=\u001b[0m \u001b[0mjson\u001b[0m\u001b[1;33m.\u001b[0m\u001b[0mloads\u001b[0m\u001b[1;33m(\u001b[0m\u001b[0mstrfile\u001b[0m\u001b[1;33m)\u001b[0m\u001b[1;33m\u001b[0m\u001b[1;33m\u001b[0m\u001b[0m\n\u001b[0m\u001b[0;32m      6\u001b[0m \u001b[1;33m\u001b[0m\u001b[0m\n\u001b[0;32m      7\u001b[0m \u001b[0mprint\u001b[0m\u001b[1;33m(\u001b[0m\u001b[0mtemplates\u001b[0m\u001b[1;33m)\u001b[0m\u001b[1;33m\u001b[0m\u001b[1;33m\u001b[0m\u001b[0m\n",
      "\u001b[1;32m~\\AppData\\Local\\Programs\\Python\\Python38\\lib\\json\\__init__.py\u001b[0m in \u001b[0;36mloads\u001b[1;34m(s, cls, object_hook, parse_float, parse_int, parse_constant, object_pairs_hook, **kw)\u001b[0m\n\u001b[0;32m    355\u001b[0m             \u001b[0mparse_int\u001b[0m \u001b[1;32mis\u001b[0m \u001b[1;32mNone\u001b[0m \u001b[1;32mand\u001b[0m \u001b[0mparse_float\u001b[0m \u001b[1;32mis\u001b[0m \u001b[1;32mNone\u001b[0m \u001b[1;32mand\u001b[0m\u001b[1;33m\u001b[0m\u001b[1;33m\u001b[0m\u001b[0m\n\u001b[0;32m    356\u001b[0m             parse_constant is None and object_pairs_hook is None and not kw):\n\u001b[1;32m--> 357\u001b[1;33m         \u001b[1;32mreturn\u001b[0m \u001b[0m_default_decoder\u001b[0m\u001b[1;33m.\u001b[0m\u001b[0mdecode\u001b[0m\u001b[1;33m(\u001b[0m\u001b[0ms\u001b[0m\u001b[1;33m)\u001b[0m\u001b[1;33m\u001b[0m\u001b[1;33m\u001b[0m\u001b[0m\n\u001b[0m\u001b[0;32m    358\u001b[0m     \u001b[1;32mif\u001b[0m \u001b[0mcls\u001b[0m \u001b[1;32mis\u001b[0m \u001b[1;32mNone\u001b[0m\u001b[1;33m:\u001b[0m\u001b[1;33m\u001b[0m\u001b[1;33m\u001b[0m\u001b[0m\n\u001b[0;32m    359\u001b[0m         \u001b[0mcls\u001b[0m \u001b[1;33m=\u001b[0m \u001b[0mJSONDecoder\u001b[0m\u001b[1;33m\u001b[0m\u001b[1;33m\u001b[0m\u001b[0m\n",
      "\u001b[1;32m~\\AppData\\Local\\Programs\\Python\\Python38\\lib\\json\\decoder.py\u001b[0m in \u001b[0;36mdecode\u001b[1;34m(self, s, _w)\u001b[0m\n\u001b[0;32m    335\u001b[0m \u001b[1;33m\u001b[0m\u001b[0m\n\u001b[0;32m    336\u001b[0m         \"\"\"\n\u001b[1;32m--> 337\u001b[1;33m         \u001b[0mobj\u001b[0m\u001b[1;33m,\u001b[0m \u001b[0mend\u001b[0m \u001b[1;33m=\u001b[0m \u001b[0mself\u001b[0m\u001b[1;33m.\u001b[0m\u001b[0mraw_decode\u001b[0m\u001b[1;33m(\u001b[0m\u001b[0ms\u001b[0m\u001b[1;33m,\u001b[0m \u001b[0midx\u001b[0m\u001b[1;33m=\u001b[0m\u001b[0m_w\u001b[0m\u001b[1;33m(\u001b[0m\u001b[0ms\u001b[0m\u001b[1;33m,\u001b[0m \u001b[1;36m0\u001b[0m\u001b[1;33m)\u001b[0m\u001b[1;33m.\u001b[0m\u001b[0mend\u001b[0m\u001b[1;33m(\u001b[0m\u001b[1;33m)\u001b[0m\u001b[1;33m)\u001b[0m\u001b[1;33m\u001b[0m\u001b[1;33m\u001b[0m\u001b[0m\n\u001b[0m\u001b[0;32m    338\u001b[0m         \u001b[0mend\u001b[0m \u001b[1;33m=\u001b[0m \u001b[0m_w\u001b[0m\u001b[1;33m(\u001b[0m\u001b[0ms\u001b[0m\u001b[1;33m,\u001b[0m \u001b[0mend\u001b[0m\u001b[1;33m)\u001b[0m\u001b[1;33m.\u001b[0m\u001b[0mend\u001b[0m\u001b[1;33m(\u001b[0m\u001b[1;33m)\u001b[0m\u001b[1;33m\u001b[0m\u001b[1;33m\u001b[0m\u001b[0m\n\u001b[0;32m    339\u001b[0m         \u001b[1;32mif\u001b[0m \u001b[0mend\u001b[0m \u001b[1;33m!=\u001b[0m \u001b[0mlen\u001b[0m\u001b[1;33m(\u001b[0m\u001b[0ms\u001b[0m\u001b[1;33m)\u001b[0m\u001b[1;33m:\u001b[0m\u001b[1;33m\u001b[0m\u001b[1;33m\u001b[0m\u001b[0m\n",
      "\u001b[1;32m~\\AppData\\Local\\Programs\\Python\\Python38\\lib\\json\\decoder.py\u001b[0m in \u001b[0;36mraw_decode\u001b[1;34m(self, s, idx)\u001b[0m\n\u001b[0;32m    351\u001b[0m         \"\"\"\n\u001b[0;32m    352\u001b[0m         \u001b[1;32mtry\u001b[0m\u001b[1;33m:\u001b[0m\u001b[1;33m\u001b[0m\u001b[1;33m\u001b[0m\u001b[0m\n\u001b[1;32m--> 353\u001b[1;33m             \u001b[0mobj\u001b[0m\u001b[1;33m,\u001b[0m \u001b[0mend\u001b[0m \u001b[1;33m=\u001b[0m \u001b[0mself\u001b[0m\u001b[1;33m.\u001b[0m\u001b[0mscan_once\u001b[0m\u001b[1;33m(\u001b[0m\u001b[0ms\u001b[0m\u001b[1;33m,\u001b[0m \u001b[0midx\u001b[0m\u001b[1;33m)\u001b[0m\u001b[1;33m\u001b[0m\u001b[1;33m\u001b[0m\u001b[0m\n\u001b[0m\u001b[0;32m    354\u001b[0m         \u001b[1;32mexcept\u001b[0m \u001b[0mStopIteration\u001b[0m \u001b[1;32mas\u001b[0m \u001b[0merr\u001b[0m\u001b[1;33m:\u001b[0m\u001b[1;33m\u001b[0m\u001b[1;33m\u001b[0m\u001b[0m\n\u001b[0;32m    355\u001b[0m             \u001b[1;32mraise\u001b[0m \u001b[0mJSONDecodeError\u001b[0m\u001b[1;33m(\u001b[0m\u001b[1;34m\"Expecting value\"\u001b[0m\u001b[1;33m,\u001b[0m \u001b[0ms\u001b[0m\u001b[1;33m,\u001b[0m \u001b[0merr\u001b[0m\u001b[1;33m.\u001b[0m\u001b[0mvalue\u001b[0m\u001b[1;33m)\u001b[0m \u001b[1;32mfrom\u001b[0m \u001b[1;32mNone\u001b[0m\u001b[1;33m\u001b[0m\u001b[1;33m\u001b[0m\u001b[0m\n",
      "\u001b[1;31mJSONDecodeError\u001b[0m: Expecting property name enclosed in double quotes: line 2 column 5 (char 6)"
     ]
    }
   ],
   "source": [
    "import json\n",
    "\n",
    "with open('1423.json', encoding='utf8') as f:\n",
    "    strfile = f.read()\n",
    "    templates = json.loads(strfile)\n",
    "\n",
    "print(templates)\n",
    "print(type(templates))"
   ]
  },
  {
   "cell_type": "code",
   "execution_count": 4,
   "metadata": {},
   "outputs": [
    {
     "name": "stdout",
     "output_type": "stream",
     "text": [
      "{\n",
      "    \"firstname\": \"Иван\",\n",
      "    \"lastname\": \"Иванов\",\n",
      "    \"isAlive\": true,\n",
      "    \"age\": 32,\n",
      "    \"address\": {\n",
      "        \"streetAddress\": \"Нейбута 32\",\n",
      "        \"city\": \"Владивосток\",\n",
      "        \"state\": \"\",\n",
      "        \"postalcode\": \"\"\n",
      "    },\n",
      "    \"phoneNumbers\": [\n",
      "        {\n",
      "            \"type\": \"mob\",\n",
      "            \"number\": \"123-333-4455\"\n",
      "        },\n",
      "        {\n",
      "            \"type\": \"office\",\n",
      "            \"number\": \"123 111-4567\"\n",
      "        }\n",
      "    ],\n",
      "    \"children\": [],\n",
      "    \"spouse\": null\n",
      "}\n"
     ]
    }
   ],
   "source": [
    "template = {\n",
    "    'firstname': 'Иван', \n",
    "    'lastname': 'Иванов', \n",
    "    'isAlive': True, \n",
    "    'age': 32, \n",
    "    'address': {\n",
    "        'streetAddress': 'Нейбута 32', \n",
    "        'city': 'Владивосток', \n",
    "        'state': '', \n",
    "        'postalcode': ''\n",
    "    }, \n",
    "    'phoneNumbers': [\n",
    "        {\n",
    "            'type': 'mob', \n",
    "            'number': '123-333-4455'\n",
    "        },\n",
    "        {\n",
    "            'type': 'office', \n",
    "            'number': '123 111-4567'\n",
    "        }\n",
    "    ], \n",
    "    'children': [], \n",
    "    'spouse': None\n",
    "}\n",
    "\n",
    "with open('to_json_example.json', 'w', encoding='utf8') as f:\n",
    "    json.dump(template, f, ensure_ascii=False, indent=4)\n",
    "\n",
    "with open('to_json_example.json', encoding='utf8') as f:\n",
    "    print(f.read())"
   ]
  },
  {
   "cell_type": "code",
   "execution_count": null,
   "metadata": {},
   "outputs": [],
   "source": []
  }
 ],
 "metadata": {
  "kernelspec": {
   "display_name": "Python 3.8.4 64-bit",
   "language": "python",
   "name": "python38464bit8ddfffc2884943828320e5a89c55c7cc"
  },
  "language_info": {
   "codemirror_mode": {
    "name": "ipython",
    "version": 3
   },
   "file_extension": ".py",
   "mimetype": "text/x-python",
   "name": "python",
   "nbconvert_exporter": "python",
   "pygments_lexer": "ipython3",
   "version": "3.8.4rc1"
  }
 },
 "nbformat": 4,
 "nbformat_minor": 4
}
