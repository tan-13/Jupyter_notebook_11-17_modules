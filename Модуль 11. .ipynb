{
 "cells": [
  {
   "cell_type": "code",
   "execution_count": 1,
   "metadata": {},
   "outputs": [
    {
     "data": {
      "text/plain": [
       "5"
      ]
     },
     "execution_count": 1,
     "metadata": {},
     "output_type": "execute_result"
    }
   ],
   "source": [
    "#ТИП ДАННЫХ: ЧИСЛА\n",
    "2 + 3 #сложение"
   ]
  },
  {
   "cell_type": "code",
   "execution_count": 2,
   "metadata": {},
   "outputs": [
    {
     "data": {
      "text/plain": [
       "4"
      ]
     },
     "execution_count": 2,
     "metadata": {},
     "output_type": "execute_result"
    }
   ],
   "source": [
    "5 - 1 #вычитание"
   ]
  },
  {
   "cell_type": "code",
   "execution_count": 3,
   "metadata": {},
   "outputs": [
    {
     "data": {
      "text/plain": [
       "108"
      ]
     },
     "execution_count": 3,
     "metadata": {},
     "output_type": "execute_result"
    }
   ],
   "source": [
    "9 * 12 #умножение"
   ]
  },
  {
   "cell_type": "code",
   "execution_count": 4,
   "metadata": {},
   "outputs": [
    {
     "data": {
      "text/plain": [
       "1.2"
      ]
     },
     "execution_count": 4,
     "metadata": {},
     "output_type": "execute_result"
    }
   ],
   "source": [
    "12 / 10 #деление"
   ]
  },
  {
   "cell_type": "code",
   "execution_count": 5,
   "metadata": {},
   "outputs": [
    {
     "data": {
      "text/plain": [
       "float"
      ]
     },
     "execution_count": 5,
     "metadata": {},
     "output_type": "execute_result"
    }
   ],
   "source": [
    "type(1.5) #узнать тип числа (целое (int), дробное (float), комплексное (complex)"
   ]
  },
  {
   "cell_type": "code",
   "execution_count": 6,
   "metadata": {},
   "outputs": [
    {
     "data": {
      "text/plain": [
       "1"
      ]
     },
     "execution_count": 6,
     "metadata": {},
     "output_type": "execute_result"
    }
   ],
   "source": [
    "int(1.0) #изменение типа числа"
   ]
  },
  {
   "cell_type": "code",
   "execution_count": 7,
   "metadata": {},
   "outputs": [
    {
     "data": {
      "text/plain": [
       "1.0"
      ]
     },
     "execution_count": 7,
     "metadata": {},
     "output_type": "execute_result"
    }
   ],
   "source": [
    "float(1) #изменение типа числа"
   ]
  },
  {
   "cell_type": "code",
   "execution_count": 8,
   "metadata": {},
   "outputs": [
    {
     "data": {
      "text/plain": [
       "1"
      ]
     },
     "execution_count": 8,
     "metadata": {},
     "output_type": "execute_result"
    }
   ],
   "source": [
    "12 // 10 #получение целой части от деления  (1.2 => 1)"
   ]
  },
  {
   "cell_type": "code",
   "execution_count": 9,
   "metadata": {},
   "outputs": [
    {
     "data": {
      "text/plain": [
       "2"
      ]
     },
     "execution_count": 9,
     "metadata": {},
     "output_type": "execute_result"
    }
   ],
   "source": [
    "12 % 10 #получение остатка от деления  (1.2 => 2)"
   ]
  },
  {
   "cell_type": "code",
   "execution_count": 10,
   "metadata": {},
   "outputs": [
    {
     "data": {
      "text/plain": [
       "0"
      ]
     },
     "execution_count": 10,
     "metadata": {},
     "output_type": "execute_result"
    }
   ],
   "source": [
    "2 % 2 #проверка числа четное или нечетное (остаток == 0 четное, остаток > 0 нечетное)"
   ]
  },
  {
   "cell_type": "code",
   "execution_count": 12,
   "metadata": {},
   "outputs": [
    {
     "data": {
      "text/plain": [
       "1"
      ]
     },
     "execution_count": 12,
     "metadata": {},
     "output_type": "execute_result"
    }
   ],
   "source": [
    "5 % 2  # 5 нечетное"
   ]
  },
  {
   "cell_type": "code",
   "execution_count": 13,
   "metadata": {},
   "outputs": [
    {
     "data": {
      "text/plain": [
       "-2"
      ]
     },
     "execution_count": 13,
     "metadata": {},
     "output_type": "execute_result"
    }
   ],
   "source": [
    "- 2 #смена знака числа"
   ]
  },
  {
   "cell_type": "code",
   "execution_count": 14,
   "metadata": {},
   "outputs": [
    {
     "data": {
      "text/plain": [
       "10"
      ]
     },
     "execution_count": 14,
     "metadata": {},
     "output_type": "execute_result"
    }
   ],
   "source": [
    "abs(-10) #модуль числа"
   ]
  },
  {
   "cell_type": "code",
   "execution_count": 15,
   "metadata": {},
   "outputs": [
    {
     "data": {
      "text/plain": [
       "1024"
      ]
     },
     "execution_count": 15,
     "metadata": {},
     "output_type": "execute_result"
    }
   ],
   "source": [
    "2 ** 10 #возведение в степень"
   ]
  },
  {
   "cell_type": "code",
   "execution_count": 16,
   "metadata": {},
   "outputs": [
    {
     "data": {
      "text/plain": [
       "9.0"
      ]
     },
     "execution_count": 16,
     "metadata": {},
     "output_type": "execute_result"
    }
   ],
   "source": [
    "81 ** 0.5 #взятие квадратного корня"
   ]
  },
  {
   "cell_type": "code",
   "execution_count": 17,
   "metadata": {},
   "outputs": [
    {
     "data": {
      "text/plain": [
       "0.9999999999999999"
      ]
     },
     "execution_count": 17,
     "metadata": {},
     "output_type": "execute_result"
    }
   ],
   "source": [
    "0.1 + 0.1 + 0.1 + 0.1 + 0.1 + 0.1 + 0.1 + 0.1 + 0.1 + 0.1 #вещественные числа"
   ]
  },
  {
   "cell_type": "code",
   "execution_count": 18,
   "metadata": {},
   "outputs": [
    {
     "data": {
      "text/plain": [
       "0"
      ]
     },
     "execution_count": 18,
     "metadata": {},
     "output_type": "execute_result"
    }
   ],
   "source": [
    "round(0.4) #округление числа до ближайшего целого"
   ]
  },
  {
   "cell_type": "code",
   "execution_count": 19,
   "metadata": {},
   "outputs": [
    {
     "data": {
      "text/plain": [
       "0"
      ]
     },
     "execution_count": 19,
     "metadata": {},
     "output_type": "execute_result"
    }
   ],
   "source": [
    "round(0.5) #нематематическое округление до ближайшего четного "
   ]
  },
  {
   "cell_type": "code",
   "execution_count": 20,
   "metadata": {},
   "outputs": [
    {
     "data": {
      "text/plain": [
       "2"
      ]
     },
     "execution_count": 20,
     "metadata": {},
     "output_type": "execute_result"
    }
   ],
   "source": [
    "round(1.5)"
   ]
  },
  {
   "cell_type": "code",
   "execution_count": 21,
   "metadata": {},
   "outputs": [
    {
     "data": {
      "text/plain": [
       "2"
      ]
     },
     "execution_count": 21,
     "metadata": {},
     "output_type": "execute_result"
    }
   ],
   "source": [
    "round(2.5)"
   ]
  },
  {
   "cell_type": "code",
   "execution_count": 22,
   "metadata": {},
   "outputs": [
    {
     "data": {
      "text/plain": [
       "3"
      ]
     },
     "execution_count": 22,
     "metadata": {},
     "output_type": "execute_result"
    }
   ],
   "source": [
    "round(2.6)"
   ]
  },
  {
   "cell_type": "code",
   "execution_count": 23,
   "metadata": {},
   "outputs": [
    {
     "data": {
      "text/plain": [
       "77"
      ]
     },
     "execution_count": 23,
     "metadata": {},
     "output_type": "execute_result"
    }
   ],
   "source": [
    "2 + 3 * 5 ** 2 #сложное выражение, операции идут по математическим правилам"
   ]
  },
  {
   "cell_type": "code",
   "execution_count": 24,
   "metadata": {},
   "outputs": [
    {
     "data": {
      "text/plain": [
       "125"
      ]
     },
     "execution_count": 24,
     "metadata": {},
     "output_type": "execute_result"
    }
   ],
   "source": [
    "(2 + 3) * 5 ** 2 #приоритет выражений можно менять с помощью скобок"
   ]
  },
  {
   "cell_type": "code",
   "execution_count": 25,
   "metadata": {},
   "outputs": [
    {
     "data": {
      "text/plain": [
       "2.1"
      ]
     },
     "execution_count": 25,
     "metadata": {},
     "output_type": "execute_result"
    }
   ],
   "source": [
    "2 + 0.1 #можно складывать разные типы int  и float"
   ]
  },
  {
   "cell_type": "code",
   "execution_count": 26,
   "metadata": {},
   "outputs": [
    {
     "data": {
      "text/plain": [
       "1.5150003737745165e+308"
      ]
     },
     "execution_count": 26,
     "metadata": {},
     "output_type": "execute_result"
    }
   ],
   "source": [
    "2.2 ** 900 #возвдение большого числа в степень"
   ]
  },
  {
   "cell_type": "code",
   "execution_count": 27,
   "metadata": {},
   "outputs": [
    {
     "name": "stdout",
     "output_type": "stream",
     "text": [
      "1\n"
     ]
    }
   ],
   "source": [
    "#ТИП ДАННЫХ: СТРОКИ\n",
    "a = 1 #операция присваивания #а - переменная #1 - значение переменной. Сначала смотрит что справа,потом присваивает переменной\n",
    "print(a)"
   ]
  },
  {
   "cell_type": "code",
   "execution_count": 28,
   "metadata": {},
   "outputs": [
    {
     "name": "stdout",
     "output_type": "stream",
     "text": [
      "3\n"
     ]
    }
   ],
   "source": [
    "b = a + 2 #смотрит чему равно а, потом прибавляет 2\n",
    "print(b)"
   ]
  },
  {
   "cell_type": "code",
   "execution_count": 29,
   "metadata": {},
   "outputs": [
    {
     "name": "stdout",
     "output_type": "stream",
     "text": [
      "7\n"
     ]
    }
   ],
   "source": [
    "c = a + b * 2\n",
    "print(c)"
   ]
  },
  {
   "cell_type": "code",
   "execution_count": 34,
   "metadata": {},
   "outputs": [
    {
     "name": "stdout",
     "output_type": "stream",
     "text": [
      "16\n"
     ]
    }
   ],
   "source": [
    "c = c + c + 2  #из предыдущей строки уже с = 7, поэтому 7 + 7 + 2\n",
    "print(c)"
   ]
  },
  {
   "cell_type": "code",
   "execution_count": 35,
   "metadata": {},
   "outputs": [
    {
     "name": "stdout",
     "output_type": "stream",
     "text": [
      "20\n"
     ]
    }
   ],
   "source": [
    "print(a + b + c) #из предыдущей строки уже с = 16, поэтому 1 + 3 + 16"
   ]
  },
  {
   "cell_type": "code",
   "execution_count": 36,
   "metadata": {},
   "outputs": [
    {
     "name": "stdout",
     "output_type": "stream",
     "text": [
      "<class 'int'>\n"
     ]
    }
   ],
   "source": [
    "z = type(c) #вывод класса переменной \n",
    "print(z)"
   ]
  },
  {
   "cell_type": "code",
   "execution_count": 37,
   "metadata": {},
   "outputs": [
    {
     "name": "stdout",
     "output_type": "stream",
     "text": [
      "13\n"
     ]
    }
   ],
   "source": [
    "#синтетический сахар\n",
    "a = 11\n",
    "a += 2 #a = a + 2\n",
    "print(a)"
   ]
  },
  {
   "cell_type": "code",
   "execution_count": 38,
   "metadata": {},
   "outputs": [
    {
     "name": "stdout",
     "output_type": "stream",
     "text": [
      "9\n"
     ]
    }
   ],
   "source": [
    "a = 11\n",
    "a -= 2  #a = a - 2\n",
    "print(a)"
   ]
  },
  {
   "cell_type": "code",
   "execution_count": 39,
   "metadata": {},
   "outputs": [
    {
     "name": "stdout",
     "output_type": "stream",
     "text": [
      "22\n"
     ]
    }
   ],
   "source": [
    "a = 11\n",
    "a *= 2  #a = a * 2\n",
    "print(a)"
   ]
  },
  {
   "cell_type": "code",
   "execution_count": 40,
   "metadata": {},
   "outputs": [
    {
     "name": "stdout",
     "output_type": "stream",
     "text": [
      "121\n"
     ]
    }
   ],
   "source": [
    "a = 11\n",
    "a **= 2  #a = a ** 2\n",
    "print(a)"
   ]
  },
  {
   "cell_type": "code",
   "execution_count": 41,
   "metadata": {},
   "outputs": [
    {
     "name": "stdout",
     "output_type": "stream",
     "text": [
      "5.5\n"
     ]
    }
   ],
   "source": [
    "a = 11\n",
    "a /= 2  #a = a / 2\n",
    "print(a)"
   ]
  },
  {
   "cell_type": "code",
   "execution_count": 42,
   "metadata": {},
   "outputs": [
    {
     "name": "stdout",
     "output_type": "stream",
     "text": [
      "5\n"
     ]
    }
   ],
   "source": [
    "a = 11\n",
    "a //= 2  #a = a // 2\n",
    "print(a)"
   ]
  },
  {
   "cell_type": "code",
   "execution_count": 43,
   "metadata": {},
   "outputs": [
    {
     "name": "stdout",
     "output_type": "stream",
     "text": [
      "1\n"
     ]
    }
   ],
   "source": [
    "a = 11\n",
    "a %= 2  #a = a % 2\n",
    "print(a)"
   ]
  },
  {
   "cell_type": "code",
   "execution_count": 44,
   "metadata": {},
   "outputs": [
    {
     "name": "stdout",
     "output_type": "stream",
     "text": [
      "строка\n"
     ]
    }
   ],
   "source": [
    "a = 'строка'  #строки пишутся в кавычках в одинарных \n",
    "print(a)"
   ]
  },
  {
   "cell_type": "code",
   "execution_count": 45,
   "metadata": {},
   "outputs": [
    {
     "name": "stdout",
     "output_type": "stream",
     "text": [
      "другая строка\n"
     ]
    }
   ],
   "source": [
    "a = \"другая строка\" #или в двойных\n",
    "print(a)"
   ]
  },
  {
   "cell_type": "code",
   "execution_count": 46,
   "metadata": {},
   "outputs": [
    {
     "name": "stdout",
     "output_type": "stream",
     "text": [
      "строка с кавычкой \" внутри\n"
     ]
    }
   ],
   "source": [
    "a = 'строка с кавычкой \" внутри' #кавычки должны быть разного вида, если надо вывести на экран\n",
    "print(a)"
   ]
  },
  {
   "cell_type": "code",
   "execution_count": 47,
   "metadata": {},
   "outputs": [
    {
     "name": "stdout",
     "output_type": "stream",
     "text": [
      "строка с кавычкой ' внутри\n"
     ]
    }
   ],
   "source": [
    "a = \"строка с кавычкой ' внутри\" #кавычки должны быть разного вида, если надо вывести на экран\n",
    "print(a)"
   ]
  },
  {
   "cell_type": "code",
   "execution_count": 48,
   "metadata": {},
   "outputs": [
    {
     "name": "stdout",
     "output_type": "stream",
     "text": [
      "многострочная\n",
      "строка\n",
      "длинная\n"
     ]
    }
   ],
   "source": [
    "a = '''многострочная\n",
    "строка\n",
    "длинная'''  #тройные кавычки любого вида (''', \"\"\") используются для длинных строк (главы книг) \n",
    "print(a)"
   ]
  },
  {
   "cell_type": "code",
   "execution_count": 50,
   "metadata": {},
   "outputs": [
    {
     "name": "stdout",
     "output_type": "stream",
     "text": [
      "строка c пере\n",
      "водом строки и табу\tляцией  #\n",
      " - первод строки, \t - табуляция\n"
     ]
    }
   ],
   "source": [
    "a = \"строка c пере\\nводом строки и табу\\tляцией  #\\n - первод строки, \\t - табуляция\"\n",
    "print(a)"
   ]
  },
  {
   "cell_type": "code",
   "execution_count": 51,
   "metadata": {},
   "outputs": [
    {
     "name": "stdout",
     "output_type": "stream",
     "text": [
      "строка c \\n экранированием  #используется экранирование \\, если надо написать символ \n",
      "\n"
     ]
    }
   ],
   "source": [
    "a = \"строка c \\\\n экранированием  #используется экранирование \\\\, если надо написать символ \\n\" \n",
    "print(a)"
   ]
  },
  {
   "cell_type": "code",
   "execution_count": 52,
   "metadata": {},
   "outputs": [
    {
     "name": "stdout",
     "output_type": "stream",
     "text": [
      "Так же экранируем \" кавычку\n"
     ]
    }
   ],
   "source": [
    "a = \"Так же экранируем \\\" кавычку\"\n",
    "print(a)"
   ]
  },
  {
   "cell_type": "code",
   "execution_count": 53,
   "metadata": {},
   "outputs": [
    {
     "name": "stdout",
     "output_type": "stream",
     "text": [
      "aaabbb\n"
     ]
    }
   ],
   "source": [
    "print('aaa' + 'bbb') #сложение строк  - конкатенация (одного типа, разных типов не работает 1 + '1')\n"
   ]
  },
  {
   "cell_type": "code",
   "execution_count": 55,
   "metadata": {},
   "outputs": [
    {
     "name": "stdout",
     "output_type": "stream",
     "text": [
      "12\n"
     ]
    }
   ],
   "source": [
    "#для сложения разных типов, необходимо преобразование\n",
    "a = 1\n",
    "print(str(a) + '2') #преобразование в строку"
   ]
  },
  {
   "cell_type": "code",
   "execution_count": 56,
   "metadata": {},
   "outputs": [
    {
     "name": "stdout",
     "output_type": "stream",
     "text": [
      "3\n"
     ]
    }
   ],
   "source": [
    "a = '1'\n",
    "print(int(a) + 2) #преобразование строки в число возможно, если строка содержит число a = 'один' print(int(a)) не сработает"
   ]
  },
  {
   "cell_type": "code",
   "execution_count": 57,
   "metadata": {},
   "outputs": [
    {
     "name": "stdout",
     "output_type": "stream",
     "text": [
      "sossossos\n"
     ]
    }
   ],
   "source": [
    "print('sos' * 3) #дублирование"
   ]
  },
  {
   "cell_type": "code",
   "execution_count": 58,
   "metadata": {},
   "outputs": [
    {
     "name": "stdout",
     "output_type": "stream",
     "text": [
      "6\n"
     ]
    }
   ],
   "source": [
    "print(len('abcdef'))#длина строки (кол-во символов)"
   ]
  },
  {
   "cell_type": "code",
   "execution_count": 1,
   "metadata": {},
   "outputs": [
    {
     "name": "stdout",
     "output_type": "stream",
     "text": [
      "первый символ равен \"Д\"\n",
      "пятый символ равен \"н\"\n",
      "предпоследний символ равен \"к\"\n"
     ]
    }
   ],
   "source": [
    "#доступ по индексу  с конца строки элементы начинают отсчитываться с -1. \n",
    "a = \"Длинная строка\"\n",
    "print('первый символ равен \"' + a[0] + '\"\\nпятый символ равен \"' + a[4] + '\"\\nпредпоследний символ равен \"' + a[-2] + '\"')"
   ]
  },
  {
   "cell_type": "code",
   "execution_count": 2,
   "metadata": {},
   "outputs": [
    {
     "name": "stdout",
     "output_type": "stream",
     "text": [
      "р\n",
      " строка\n",
      "осто стро\n",
      "просто строка\n",
      "пот т\n",
      "акортс отсорп\n"
     ]
    }
   ],
   "source": [
    "#срезы  a = [1:1:1] первое число-с какого индекса начинается, второе-каким заканчивается(не включается при выводе), \n",
    "#третье опционально-с каким шагом. [x:]-до конца, [x:-x]-отсчет символов с начала и с конца, [:]-вся строка.\n",
    "a = 'просто строка'\n",
    "print(a[1:2] + '\\n' + a[6:] + '\\n' + a[2:-2] + '\\n' + a[:] + '\\n' + a[:10:2] + '\\n' + a[::-1])"
   ]
  },
  {
   "cell_type": "code",
   "execution_count": 3,
   "metadata": {},
   "outputs": [
    {
     "name": "stdout",
     "output_type": "stream",
     "text": [
      "сначала он сказал привет, а потом добавил пока\n"
     ]
    }
   ],
   "source": [
    "#сохранение данных в переменных\n",
    "a = 'привет'\n",
    "b = 'пока'\n",
    "print('сначала он сказал %s, а потом добавил %s' %(a, b))"
   ]
  },
  {
   "cell_type": "code",
   "execution_count": 4,
   "metadata": {},
   "outputs": [
    {
     "name": "stdout",
     "output_type": "stream",
     "text": [
      "сначала он сказал пока, а потом добавил привет\n"
     ]
    }
   ],
   "source": [
    "#важно правильно указать последовательность вывода значений, сохраненных в переменных\n",
    "print('сначала он сказал %s, а потом добавил %s' %(b, a))"
   ]
  },
  {
   "cell_type": "code",
   "execution_count": 8,
   "metadata": {},
   "outputs": [
    {
     "name": "stdout",
     "output_type": "stream",
     "text": [
      "сначала он сказал привет, а потом добавил пока\n"
     ]
    }
   ],
   "source": [
    "#метод формат\n",
    "print('сначала он сказал {}, а потом добавил {}'.format(a, b))"
   ]
  },
  {
   "cell_type": "code",
   "execution_count": 10,
   "metadata": {},
   "outputs": [
    {
     "name": "stdout",
     "output_type": "stream",
     "text": [
      "сначала он сказал привет, а потом добавил пока\n"
     ]
    }
   ],
   "source": [
    "#функциональная строка f-string\n",
    "print(f'сначала он сказал {a}, а потом добавил {b}')"
   ]
  },
  {
   "cell_type": "code",
   "execution_count": 11,
   "metadata": {},
   "outputs": [
    {
     "name": "stdout",
     "output_type": "stream",
     "text": [
      "<class 'bool'>\n",
      "<class 'bool'>\n"
     ]
    }
   ],
   "source": [
    "#Логические операции\n",
    "a = True\n",
    "b = False\n",
    "print(type(a))\n",
    "print(type(b))"
   ]
  },
  {
   "cell_type": "code",
   "execution_count": 13,
   "metadata": {},
   "outputs": [],
   "source": [
    "a = 2\n",
    "b = 3\n",
    "c = 1 + 1"
   ]
  },
  {
   "cell_type": "code",
   "execution_count": 14,
   "metadata": {},
   "outputs": [
    {
     "name": "stdout",
     "output_type": "stream",
     "text": [
      "False\n",
      "True\n"
     ]
    }
   ],
   "source": [
    "#оператор равенства ==\n",
    "print(a == b)\n",
    "print(a == c)"
   ]
  },
  {
   "cell_type": "code",
   "execution_count": 15,
   "metadata": {},
   "outputs": [
    {
     "name": "stdout",
     "output_type": "stream",
     "text": [
      "True\n",
      "False\n"
     ]
    }
   ],
   "source": [
    "#оператор неравенства !=\n",
    "print(a != b)\n",
    "print(a != c)"
   ]
  },
  {
   "cell_type": "code",
   "execution_count": 16,
   "metadata": {},
   "outputs": [
    {
     "name": "stdout",
     "output_type": "stream",
     "text": [
      "False\n",
      "False\n"
     ]
    }
   ],
   "source": [
    "#оператор больше >\n",
    "print(a > b)\n",
    "print(a > c)"
   ]
  },
  {
   "cell_type": "code",
   "execution_count": 17,
   "metadata": {},
   "outputs": [
    {
     "name": "stdout",
     "output_type": "stream",
     "text": [
      "True\n",
      "False\n"
     ]
    }
   ],
   "source": [
    "#оператор меньше <\n",
    "print(a < b)\n",
    "print(a < c)"
   ]
  },
  {
   "cell_type": "code",
   "execution_count": 18,
   "metadata": {},
   "outputs": [
    {
     "name": "stdout",
     "output_type": "stream",
     "text": [
      "False\n",
      "True\n"
     ]
    }
   ],
   "source": [
    "#оператор больше или равно >=\n",
    "print(a >= b)\n",
    "print(a >= c)"
   ]
  },
  {
   "cell_type": "code",
   "execution_count": 19,
   "metadata": {},
   "outputs": [
    {
     "name": "stdout",
     "output_type": "stream",
     "text": [
      "True\n",
      "True\n"
     ]
    }
   ],
   "source": [
    "#оператор меньше или равно <=\n",
    "print(a <= b)\n",
    "print(a <= c)"
   ]
  },
  {
   "cell_type": "code",
   "execution_count": 22,
   "metadata": {},
   "outputs": [
    {
     "name": "stdout",
     "output_type": "stream",
     "text": [
      "Вариант 1\n"
     ]
    }
   ],
   "source": [
    "'''Конструкция if/else  если правдиво первое условие, выполняется команда после if, если условие ложно, то выполняется \n",
    "команда после else.'''\n",
    "a = 10\n",
    "b = 5\n",
    "if a > b:\n",
    "    print(\"Вариант 1\")\n",
    "else:\n",
    "    print(\"Вариант 2\")"
   ]
  },
  {
   "cell_type": "code",
   "execution_count": 21,
   "metadata": {},
   "outputs": [
    {
     "name": "stdout",
     "output_type": "stream",
     "text": [
      "Вариант 2\n"
     ]
    }
   ],
   "source": [
    "a = 10\n",
    "b = 5\n",
    "if a < b:\n",
    "    print(\"Вариант 1\")\n",
    "else:\n",
    "    print(\"Вариант 2\")"
   ]
  },
  {
   "cell_type": "code",
   "execution_count": 23,
   "metadata": {},
   "outputs": [
    {
     "name": "stdout",
     "output_type": "stream",
     "text": [
      "текст-3\n"
     ]
    }
   ],
   "source": [
    "a = 10\n",
    "b = 5\n",
    "c = 2\n",
    "d = 1\n",
    "if a > b:  #true a>b значит последнее else не выполняется (текст-5)\n",
    "    if d <= 1: #true значит else не выполняется (текст-4)\n",
    "        if c == 3: #false \n",
    "            print('текст') #не выполняется\n",
    "        else:\n",
    "            if a == 11: #false \n",
    "                print('текст-2') #не выполняется\n",
    "            else:\n",
    "                print('текст-3')  #выполняется\n",
    "    else:\n",
    "        print('текст-4')\n",
    "else:\n",
    "    print('текст-5')\n"
   ]
  },
  {
   "cell_type": "code",
   "execution_count": 24,
   "metadata": {},
   "outputs": [
    {
     "name": "stdout",
     "output_type": "stream",
     "text": [
      "текст-2\n"
     ]
    }
   ],
   "source": [
    "#синтаксический сахар elif\n",
    "a = 10\n",
    "b = 5\n",
    "c = 2\n",
    "if a < b:  #false, значит выполняется else\n",
    "    print('текст-1')\n",
    "elif a > c:\n",
    "    print('текст-2')\n",
    "else:\n",
    "    print('текст-3')"
   ]
  },
  {
   "cell_type": "code",
   "execution_count": 2,
   "metadata": {},
   "outputs": [
    {
     "name": "stdout",
     "output_type": "stream",
     "text": [
      "6\n",
      "четное число\n"
     ]
    }
   ],
   "source": [
    "a = int(input())\n",
    "if a % 2 == 0: \n",
    "    print('четное число') \n",
    "else:   \n",
    "    print('нечетное число') "
   ]
  },
  {
   "cell_type": "code",
   "execution_count": 3,
   "metadata": {},
   "outputs": [
    {
     "name": "stdout",
     "output_type": "stream",
     "text": [
      "79\n",
      "нечетное число\n"
     ]
    }
   ],
   "source": [
    "a = int(input())\n",
    "if a % 2 == 0: \n",
    "    print('четное число') \n",
    "else:   \n",
    "    print('нечетное число') "
   ]
  },
  {
   "cell_type": "code",
   "execution_count": 5,
   "metadata": {},
   "outputs": [
    {
     "name": "stdout",
     "output_type": "stream",
     "text": [
      "1\n",
      "2\n",
      "3\n",
      "4\n"
     ]
    }
   ],
   "source": [
    "#цикл while - проверка кода ограниченное или неограниченное число раз\n",
    "a = 1\n",
    "while a < 5:\n",
    "    print(a)\n",
    "    a += 1\n",
    "\n"
   ]
  },
  {
   "cell_type": "code",
   "execution_count": 6,
   "metadata": {},
   "outputs": [
    {
     "name": "stdout",
     "output_type": "stream",
     "text": [
      "b = 0\n",
      "------------\n",
      "1\n",
      "------------\n",
      "2\n",
      "3\n",
      "Конец\n"
     ]
    }
   ],
   "source": [
    "a = 1\n",
    "b = 0\n",
    "while True:\n",
    "    if b == 0:  #первый шаг true  далее false\n",
    "        print('b = 0')  #Выполняется на первом шаге, потом выполняется else\n",
    "    else:\n",
    "        print(a)  #выполняется на втором шаге, вывод единицы\n",
    "        a += 1    #выполняется на последующих шагах\n",
    "    b += 1\n",
    "    if b == 3:  #на первом шаге false\n",
    "        continue\n",
    "    if b == 4: #на первом шаге false\n",
    "        break\n",
    "    print('------------')  #выполняется\n",
    "print('Конец')\n",
    "        "
   ]
  },
  {
   "cell_type": "code",
   "execution_count": 7,
   "metadata": {},
   "outputs": [
    {
     "name": "stdout",
     "output_type": "stream",
     "text": [
      "1\n",
      "2\n",
      "3\n",
      "Конец\n"
     ]
    }
   ],
   "source": [
    "i = 0\n",
    "while i < 3:\n",
    "    i += 1\n",
    "    print(i)\n",
    "else:\n",
    "    print('Конец')"
   ]
  },
  {
   "cell_type": "code",
   "execution_count": 8,
   "metadata": {},
   "outputs": [
    {
     "name": "stdout",
     "output_type": "stream",
     "text": [
      "1\n",
      "2\n",
      "3\n"
     ]
    }
   ],
   "source": [
    "i = 0\n",
    "while True: #бесконечный цикл\n",
    "    i += 1\n",
    "    print(i)\n",
    "    if i == 3:\n",
    "        break\n",
    "else:\n",
    "    print('Конец') #не выводится, т.к. мы вышли по break"
   ]
  },
  {
   "cell_type": "code",
   "execution_count": 10,
   "metadata": {},
   "outputs": [
    {
     "name": "stdout",
     "output_type": "stream",
     "text": [
      "17\n",
      "Простое число\n"
     ]
    }
   ],
   "source": [
    "#перебор всех вариантов\n",
    "number = int(input())\n",
    "divisor = 2   #разделитель равен двум\n",
    "while number % divisor != 0:  #проходим цикл пока число не сравняется с делителем\n",
    "    divisor += 1\n",
    "if divisor == number:  #если получается 0, то цикл завершается\n",
    "    print('Простое число')\n",
    "else:\n",
    "    print('Непростое число')"
   ]
  },
  {
   "cell_type": "code",
   "execution_count": 13,
   "metadata": {},
   "outputs": [
    {
     "name": "stdout",
     "output_type": "stream",
     "text": [
      "780\n",
      "Непростое число\n"
     ]
    }
   ],
   "source": [
    "#перебор всех нечетных вариантов (зная, что все четные числа непростые за исключением 2, вводим делители 2 и 3) \n",
    "number = int(input())\n",
    "if number % 2 == 0:\n",
    "    divisor == 2\n",
    "else:\n",
    "    divisor == 3\n",
    "    while number % divisor != 0:\n",
    "        divisor += 2\n",
    "if divisor == number:\n",
    "    print('Простое число')\n",
    "else:\n",
    "    print('Непростое число')"
   ]
  },
  {
   "cell_type": "code",
   "execution_count": 16,
   "metadata": {},
   "outputs": [
    {
     "name": "stdout",
     "output_type": "stream",
     "text": [
      "43597439835\n",
      "Непростое число\n"
     ]
    }
   ],
   "source": [
    "#перебор всех нечетных вариантов с условием, что число меньше квадрата\n",
    "number = int(input())\n",
    "if number % 2 == 0:\n",
    "    divisor == 2\n",
    "else:\n",
    "    divisor == 3\n",
    "    while divisor ** 2 <= number and number % divisor != 0:\n",
    "        divisor += 2\n",
    "if divisor ** 2 >= number:\n",
    "    print('Простое число')\n",
    "else:\n",
    "    print('Непростое число')"
   ]
  },
  {
   "cell_type": "code",
   "execution_count": 4,
   "metadata": {},
   "outputs": [
    {
     "name": "stdout",
     "output_type": "stream",
     "text": [
      "9.4\n",
      "Нецелое число\n"
     ]
    }
   ],
   "source": [
    "#Задание 11.5.5. Проверить целое число ввёл пользователь или дробное.\n",
    "a = float(input())\n",
    "if a % 1 == 0:  #если остаток при делении на 1 == 0, то целое\n",
    "    print('Целое число')\n",
    "else:\n",
    "    print('Нецелое число')"
   ]
  },
  {
   "cell_type": "code",
   "execution_count": 11,
   "metadata": {},
   "outputs": [
    {
     "name": "stdout",
     "output_type": "stream",
     "text": [
      "Введите сторону А3\n",
      "Введите сторону B4\n",
      "Введите сторону C5\n",
      "6\n"
     ]
    }
   ],
   "source": [
    "#Задание 11.7.1.Для того чтобы найти площадь треугольника, можно использовать формулу Герона. Стороны с длиной 3, 4, 5.\n",
    "#Впишите ответ (округлите до целого)\n",
    "a = float(input('Введите сторону А'))\n",
    "b = float(input('Введите сторону B'))\n",
    "c = float(input('Введите сторону C'))\n",
    "p = (a + b + c) / 2\n",
    "s = (p * (p - a) * (p - b) * (p - c)) ** 0.5\n",
    "print(round(s))\n"
   ]
  },
  {
   "cell_type": "code",
   "execution_count": 12,
   "metadata": {},
   "outputs": [
    {
     "name": "stdout",
     "output_type": "stream",
     "text": [
      "Введите сторону А2341\n",
      "Введите сторону B1234\n",
      "Введите сторону C1767\n",
      "1070056\n"
     ]
    }
   ],
   "source": [
    "#Стороны с длиной 2 341, 1 234, 1 767. Впишите ответ (округлите до целого)\n",
    "a = float(input('Введите сторону А'))\n",
    "b = float(input('Введите сторону B'))\n",
    "c = float(input('Введите сторону C'))\n",
    "p = (a + b + c) / 2\n",
    "s = (p * (p - a) * (p - b) * (p - c)) ** 0.5\n",
    "print(round(s))"
   ]
  },
  {
   "cell_type": "code",
   "execution_count": 9,
   "metadata": {},
   "outputs": [
    {
     "name": "stdout",
     "output_type": "stream",
     "text": [
      "Введите сторону А0.014\n",
      "Введите сторону B0.02\n",
      "Введите сторону C0.0119\n",
      "Площадь треугольника: 8.18267e-05\n"
     ]
    }
   ],
   "source": [
    "#Стороны с длиной 0.014, 0.02, 0.0119.\n",
    "a = float(input('Введите сторону А '))\n",
    "b = float(input('Введите сторону B '))\n",
    "c = float(input('Введите сторону C '))\n",
    "p = (a + b + c) / 2\n",
    "s = (p * (p - a) * (p - b) * (p - c)) ** 0.5\n",
    "print(f'Площадь треугольника: {round(s, 10)}')\n"
   ]
  },
  {
   "cell_type": "code",
   "execution_count": 14,
   "metadata": {},
   "outputs": [
    {
     "name": "stdout",
     "output_type": "stream",
     "text": [
      "2019\n",
      "Невисокосный год\n"
     ]
    }
   ],
   "source": [
    "'''Задание 11.7.4.\n",
    "Напишите программу, которая принимает на вход от пользователя целое число и выдаёт ответ 'Високосный год' или 'Обычный год'.\n",
    "Если год делится на 400 => високосный год. Если год делится на 4 без остатка, но делится на 100 с остатком => високосный год'''\n",
    "\n",
    "year = int(input())\n",
    "if year % 400 == 0 or (year % 4 == 0 and year % 100 != 0):\n",
    "    print('Високосный год')\n",
    "else:\n",
    "    print('Невисокосный год')  \n"
   ]
  },
  {
   "cell_type": "code",
   "execution_count": 16,
   "metadata": {},
   "outputs": [
    {
     "name": "stdout",
     "output_type": "stream",
     "text": [
      "Введите сумму вклада: 50000\n",
      "Введите количество месяцев: 15\n",
      "52677\n"
     ]
    }
   ],
   "source": [
    "'''Задание 11.7.5.\n",
    "Вы хотите проверить, правильно ли считает алгоритм банка (пример), сколько вы денег получите после того, как откроете вклад \n",
    "на определённую сумму под определённые проценты. Вам нужно реализовать свой алгоритм вычисления этой суммы и проверить решение \n",
    "с помощью образца. \n",
    "Условия такие:\n",
    "Процентная ставка составляет 4.18% годовых.\n",
    "Капитализация (это означает, что каждый месяц банк подсчитывает процент, кладёт его на счет и в следующий месяц считает уже от \n",
    "этой суммы).\n",
    "Программа принимает на вход два числа: сумму и количество месяцев вклада.\n",
    "Программа выводит, сколько денег к концу срока получится на счету.\n",
    "Подсказка: Помните, что процентная ставка именно годовая, в месяц будет ставка ниже.'''\n",
    "\n",
    "cash = int(input('Введите сумму вклада: '))\n",
    "month = int(input('Введите количество месяцев: '))\n",
    "i = 0\n",
    "while i < month:\n",
    "    cash += cash * (0.0418 / 12)\n",
    "    i += 1\n",
    "print(int(cash))"
   ]
  },
  {
   "cell_type": "code",
   "execution_count": null,
   "metadata": {},
   "outputs": [],
   "source": []
  }
 ],
 "metadata": {
  "kernelspec": {
   "display_name": "Python 3.8.4 64-bit",
   "language": "python",
   "name": "python38464bit8ddfffc2884943828320e5a89c55c7cc"
  },
  "language_info": {
   "codemirror_mode": {
    "name": "ipython",
    "version": 3
   },
   "file_extension": ".py",
   "mimetype": "text/x-python",
   "name": "python",
   "nbconvert_exporter": "python",
   "pygments_lexer": "ipython3",
   "version": "3.8.4rc1"
  }
 },
 "nbformat": 4,
 "nbformat_minor": 4
}
