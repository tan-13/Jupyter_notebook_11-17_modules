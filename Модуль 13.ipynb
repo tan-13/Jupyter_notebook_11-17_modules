{
 "cells": [
  {
   "cell_type": "code",
   "execution_count": 5,
   "metadata": {},
   "outputs": [
    {
     "name": "stdout",
     "output_type": "stream",
     "text": [
      "aaa\n",
      "bbb\n",
      "aaa\n",
      "bbb\n",
      "aaa\n",
      "bbb\n"
     ]
    }
   ],
   "source": [
    "#Функции - это объект, который принимает на вход аргументы и возвращает значение. Для выполнения кода множество раз. \n",
    "#Ключевое слово функции def. \n",
    "\n",
    "def foo():\n",
    "    print('aaa')\n",
    "    print('bbb')\n",
    "foo()\n",
    "foo()\n",
    "foo()"
   ]
  },
  {
   "cell_type": "code",
   "execution_count": 6,
   "metadata": {},
   "outputs": [
    {
     "name": "stdout",
     "output_type": "stream",
     "text": [
      "2.0\n",
      "0.6324555320336759\n"
     ]
    }
   ],
   "source": [
    "def sqrtamount(x, y):\n",
    "    result = (x + y) ** 0.5\n",
    "    return result   #return ключевое слово, чтобы функция что-то вернула, если убрать, то выводится None\n",
    "\n",
    "a = sqrtamount(1, 3)\n",
    "print(a)\n",
    "print(sqrtamount(0.1, 0.3))"
   ]
  },
  {
   "cell_type": "code",
   "execution_count": 7,
   "metadata": {},
   "outputs": [
    {
     "name": "stdout",
     "output_type": "stream",
     "text": [
      "0.63\n",
      "146.74468\n",
      "5.74\n"
     ]
    }
   ],
   "source": [
    "#c переменной по умолчанию. \n",
    "def sqrtamount(x, y, dec_plac = 2): #dec_plac задает длину выводимого результата -2 знака после запятой после округления\n",
    "    result = (x + y) ** 0.5\n",
    "    result = round(result, dec_plac)\n",
    "    return result   \n",
    "\n",
    "print(sqrtamount(0.1, 0.3))\n",
    "print(sqrtamount(21321, 213, 5))   #5 знаков после запятой\n",
    "print(sqrtamount(y = 21, x = 12))"
   ]
  },
  {
   "cell_type": "code",
   "execution_count": 8,
   "metadata": {},
   "outputs": [
    {
     "name": "stdout",
     "output_type": "stream",
     "text": [
      "36\n"
     ]
    }
   ],
   "source": [
    "def mov(x):\n",
    "    print(x * 2)  \n",
    "def mov2(x, y):\n",
    "    t = x * 2 + y * 2\n",
    "    mov(t)    \n",
    "def mov3(x, y, z):\n",
    "    t = x * 2 + y * 2\n",
    "    mov2(t, z) \n",
    "mov3(1, 2, 3)\n"
   ]
  },
  {
   "cell_type": "code",
   "execution_count": null,
   "metadata": {},
   "outputs": [],
   "source": [
    "#Модули  \n",
    "'''Модуль datetime предназначен для работы с датами,\n",
    "Модуль time предназначен для работы с системным временем,\n",
    "Модуль random позволяет генерировать псевдослучайные числа,\n",
    "Модуль sys предоставляет доступ к системным переменным,\n",
    "Модуль math содержит математические функции. '''\n"
   ]
  },
  {
   "cell_type": "code",
   "execution_count": 2,
   "metadata": {},
   "outputs": [
    {
     "name": "stdout",
     "output_type": "stream",
     "text": [
      "1125899839733759\n",
      "Число простое\n",
      "28.8736515045166\n"
     ]
    }
   ],
   "source": [
    "from time import time # из модуля time импортировали функцию time\n",
    "\n",
    "def isPrime(number):\n",
    "    if number % 2 == 0:\n",
    "        divisor = 2\n",
    "    else:\n",
    "        divisor = 3\n",
    "\n",
    "        while divisor ** 2 <= number and number % divisor != 0:\n",
    "            divisor += 2\n",
    "    if divisor ** 2 >= number:\n",
    "        print('Число простое')\n",
    "    else:\n",
    "        print('Число не простое')\n",
    "st = int(input())\n",
    "\n",
    "start = time()\n",
    "isPrime(st) #простое число в качестве примера 1125899839733759\n",
    "stop = time()\n",
    "print(stop - start)"
   ]
  },
  {
   "cell_type": "code",
   "execution_count": 1,
   "metadata": {},
   "outputs": [
    {
     "name": "stdout",
     "output_type": "stream",
     "text": [
      "Количество оставшихся попыток: 10. Введите число:  67\n",
      "Число, которое вы ввели меньше\n",
      "Количество оставшихся попыток: 9. Введите число:  85\n",
      "Число, которое вы ввели больше\n",
      "Количество оставшихся попыток: 8. Введите число:  78\n",
      "Число, которое вы ввели меньше\n",
      "Количество оставшихся попыток: 7. Введите число:  80\n",
      "Число, которое вы ввели меньше\n",
      "Количество оставшихся попыток: 6. Введите число:  83\n",
      "Число, которое вы ввели больше\n",
      "Количество оставшихся попыток: 5. Введите число:  82\n",
      "Число, которое вы ввели больше\n",
      "Количество оставшихся попыток: 4. Введите число:  81\n",
      "Вы угадали число за 6 попыток\n"
     ]
    }
   ],
   "source": [
    "from random import randint as rand\n",
    "\n",
    "number = rand(1, 100)  \n",
    "\n",
    "for guessesTaken in range(10):\n",
    "    guess = int(input(f'Количество оставшихся попыток: {10 - guessesTaken}. Введите число:  '))\n",
    "    if guess < number:\n",
    "        print('Число, которое вы ввели меньше')\n",
    "    if guess > number:\n",
    "        print('Число, которое вы ввели больше')\n",
    "    if guess == number:\n",
    "        print(f'Вы угадали число за {guessesTaken} попыток')\n",
    "        break\n",
    "else:\n",
    "    print('Попытки закончились')"
   ]
  },
  {
   "cell_type": "code",
   "execution_count": 5,
   "metadata": {},
   "outputs": [
    {
     "name": "stdout",
     "output_type": "stream",
     "text": [
      "0.5\n"
     ]
    }
   ],
   "source": [
    "#Задание 13.3.3. Что выведет программа?\n",
    "\n",
    "std = 42 \n",
    "\n",
    "def normalize(value):\n",
    "    result = value/std\n",
    "    return result \n",
    "    \n",
    "print(normalize(21))"
   ]
  },
  {
   "cell_type": "code",
   "execution_count": 6,
   "metadata": {},
   "outputs": [
    {
     "name": "stdout",
     "output_type": "stream",
     "text": [
      "2\n"
     ]
    }
   ],
   "source": [
    "#Области видимости-это часть программы, в пределах которой объявленная переменная «видна», то есть доступна для взаимодействия.\n",
    "for i in range(10):\n",
    "    p = 2   #переменная объявлена внутри цикла\n",
    "\n",
    "print(p)"
   ]
  },
  {
   "cell_type": "code",
   "execution_count": 10,
   "metadata": {},
   "outputs": [
    {
     "ename": "NameError",
     "evalue": "name 'j' is not defined",
     "output_type": "error",
     "traceback": [
      "\u001b[1;31m---------------------------------------------------------------------------\u001b[0m",
      "\u001b[1;31mNameError\u001b[0m                                 Traceback (most recent call last)",
      "\u001b[1;32m<ipython-input-10-460a7bd2e6da>\u001b[0m in \u001b[0;36m<module>\u001b[1;34m\u001b[0m\n\u001b[0;32m      3\u001b[0m \u001b[1;33m\u001b[0m\u001b[0m\n\u001b[0;32m      4\u001b[0m \u001b[0mforr\u001b[0m\u001b[1;33m(\u001b[0m\u001b[1;33m)\u001b[0m\u001b[1;33m\u001b[0m\u001b[1;33m\u001b[0m\u001b[0m\n\u001b[1;32m----> 5\u001b[1;33m \u001b[0mprint\u001b[0m\u001b[1;33m(\u001b[0m\u001b[0mj\u001b[0m\u001b[1;33m)\u001b[0m\u001b[1;33m\u001b[0m\u001b[1;33m\u001b[0m\u001b[0m\n\u001b[0m",
      "\u001b[1;31mNameError\u001b[0m: name 'j' is not defined"
     ]
    }
   ],
   "source": [
    "def forr():\n",
    "    j = 1 #если объявляем переменную внутри функции, она ее не видит\n",
    "   \n",
    "forr()\n",
    "print(j)"
   ]
  },
  {
   "cell_type": "code",
   "execution_count": 11,
   "metadata": {},
   "outputs": [
    {
     "name": "stdout",
     "output_type": "stream",
     "text": [
      "1\n"
     ]
    }
   ],
   "source": [
    "i = 1  #если до объявления функции, то работает\n",
    "\n",
    "def forr():\n",
    "    print(i)\n",
    "\n",
    "forr()"
   ]
  },
  {
   "cell_type": "code",
   "execution_count": 26,
   "metadata": {},
   "outputs": [
    {
     "name": "stdout",
     "output_type": "stream",
     "text": [
      "3\n"
     ]
    }
   ],
   "source": [
    "pm_global = 1\n",
    "\n",
    "def funk():\n",
    "    pm_local = 2\n",
    "    \n",
    "    def foo():\n",
    "        pm_foo = 3 #локальная на данном уровне и не будет доступна на другом уровне\n",
    "        print(pm_foo)\n",
    "    def bar():\n",
    "        pm_bar = 4\n",
    "    \n",
    "    foo()\n",
    "    \n",
    "funk()"
   ]
  },
  {
   "cell_type": "code",
   "execution_count": 13,
   "metadata": {},
   "outputs": [
    {
     "name": "stdout",
     "output_type": "stream",
     "text": [
      "1\n"
     ]
    }
   ],
   "source": [
    "def funk():\n",
    "    pm = 1 #переменная внутри функции\n",
    "    \n",
    "    return pm  #для возврата значения переменной\n",
    "\n",
    "print(funk())"
   ]
  },
  {
   "cell_type": "code",
   "execution_count": 27,
   "metadata": {},
   "outputs": [
    {
     "name": "stdout",
     "output_type": "stream",
     "text": [
      "1\n",
      "2\n"
     ]
    }
   ],
   "source": [
    "pm = 1\n",
    "\n",
    "def funk():    \n",
    "    global pm  #переменную можно сделать глобальной из любого уровня вложенности\n",
    "    pm = 2\n",
    "\n",
    "    \n",
    "print(pm)\n",
    "funk()\n",
    "print(pm)"
   ]
  },
  {
   "cell_type": "code",
   "execution_count": 28,
   "metadata": {},
   "outputs": [
    {
     "name": "stdout",
     "output_type": "stream",
     "text": [
      "2\n",
      "3\n",
      "1\n"
     ]
    }
   ],
   "source": [
    "pm = 1\n",
    "\n",
    "def funk():    \n",
    "    pm = 2\n",
    "    \n",
    "    def foo():\n",
    "        nonlocal pm  #nonlocal повышает область видимости на один уровень\n",
    "        pm = 3\n",
    "        \n",
    "    print(pm)\n",
    "    foo()\n",
    "    print(pm)\n",
    "    \n",
    "funk()\n",
    "print (pm)"
   ]
  },
  {
   "cell_type": "code",
   "execution_count": null,
   "metadata": {},
   "outputs": [],
   "source": [
    "''' Реку́рсия — определение, описание, изображение какого-либо объекта или процесса внутри самого этого объекта или процесса, \n",
    "то есть ситуация, когда объект является частью самого себя.\n",
    "Рассмотрим пример с вычислением числа Фибоначчи (рис. 13.4.1).\n",
    "\n",
    "Мы объявляем функцию fibonacci, которая возвращает нам единицу, если передано значение 1 или 2, так как это соответствует \n",
    "условию ряда Фибоначчи. Если же передано иное значение, то функция возвращает сумму вызова себя же, но с передачей числа меньше.\n",
    "\n",
    "Посмотрим по шагам, как это работает:\n",
    "\n",
    "Запускаем программу и вводим цифру 4.\n",
    "number равно теперь 4, идет первый вызов функции fibonacci(4).\n",
    "Так как 4 не является 1 и 2, то она возвращает сумму fibonacci(3) + fibonacci(2).\n",
    "Первая функция в этой сумме возвращает сумму fibonacci(2) + fibonacci(1). \n",
    "Они обе вернут единицу, значит первая функция с шага 3 нашего алгоритма вернет двойку.\n",
    "Вторая функция с шага три вернет единицу.\n",
    "Значит итоговая сумма на шаге 4 будет равна тройке.\n",
    "\n",
    "f(7) -> f(6) + f(5) ->8 + 5 = 13\n",
    "f(6) -> f(5) + f(4) ->5 + 3 = 8\n",
    "f(5) -> f(4) + f(3) -> 3 + 2 = 5\n",
    "f(4)->f(3)+f(2) ->2 + 1 = 3\n",
    "f(3)->f(2)+f(1) ->1 + 1 = 2\n",
    "f(2)->1 \n",
    "f(1)->1'''"
   ]
  },
  {
   "cell_type": "code",
   "execution_count": 31,
   "metadata": {},
   "outputs": [
    {
     "name": "stdout",
     "output_type": "stream",
     "text": [
      "Введите число: 8\n",
      "Число Фибоначчи, которое соответствует номеру 8, это: 34\n"
     ]
    }
   ],
   "source": [
    "def fibonacci(n):       #1, 1, 2, 3, 5, 8, 13, 21, 34, 55...\n",
    "    if n < 2:           #например число 5, это условие не выполняется, значит идем дальше\n",
    "        return 1\n",
    "    return fibonacci(n - 1) + fibonacci(n - 2)  #тут f(5)->f(4) + f(3) дальше f(4)->f(3)+f(2) f(3)->f(2)+f(1) f(2)->1 f(1)->1\n",
    " \n",
    "number = int(input('Введите число: '))\n",
    "\n",
    "print(f'Число Фибоначчи, которое соответствует номеру {number}, это: {fibonacci(number)}')"
   ]
  },
  {
   "cell_type": "code",
   "execution_count": 32,
   "metadata": {},
   "outputs": [
    {
     "name": "stdout",
     "output_type": "stream",
     "text": [
      "125\n",
      "125\n"
     ]
    }
   ],
   "source": [
    "'''Лямбда-функция, иначе называемая анонимная функция — это специальная функция в Python, которая имеет следующие ограничения \n",
    "и преимущества, по сравнению с обычной функцией:\n",
    "Она не имеет наименования;\n",
    "Она может содержать только одну строку кода;\n",
    "Она возвращается автоматически (отсутствует слово return)'''\n",
    "def funk(x, y):  \n",
    "    return x**2 + y**2\n",
    "\n",
    "x = 10\n",
    "y = 5\n",
    "\n",
    "print(funk(x, y))\n",
    "\n",
    "print((lambda x, y: x**2 + y**2)(x, y))  #(lambda x, y: x**2 + y**2) передача функции (x, y) передача данных"
   ]
  },
  {
   "cell_type": "code",
   "execution_count": 33,
   "metadata": {},
   "outputs": [
    {
     "name": "stdout",
     "output_type": "stream",
     "text": [
      "Введите число: 18\n",
      "Число Фибоначчи, которое соответствует номеру 18, это: 2584\n"
     ]
    }
   ],
   "source": [
    "fibonacci = lambda n: fibonacci(n - 1) + fibonacci(n - 2) if n > 2 else 1\n",
    "#выполнить код ЕСЛИ условие верно ИНАЧЕ выполнить другой код  (выолнить функцию если n>2, если иначе возвращаем 1.\n",
    "\n",
    "number = int(input('Введите число: '))\n",
    "\n",
    "print(f'Число Фибоначчи, которое соответствует номеру {number}, это: {fibonacci(number)}')"
   ]
  },
  {
   "cell_type": "code",
   "execution_count": 35,
   "metadata": {},
   "outputs": [
    {
     "name": "stdout",
     "output_type": "stream",
     "text": [
      "['Голубой', 'Красный', 'белый', 'синий', 'черный']\n",
      "['белый', 'Голубой', 'Красный', 'синий', 'черный']\n",
      "['белый', 'Голубой', 'Красный', 'синий', 'черный']\n"
     ]
    }
   ],
   "source": [
    "'''Сортировка списка с помощью лямбды. Мы определили список из строк, причем обратите внимание: строки написаны то с большой \n",
    "буквы, то с маленькой. Сначала мы делаем просто сортировку, без дополнительных условий. Мы видим, что первыми двумя объектами \n",
    "являются «Голубой» и «Красный» — так как сортировка идет посимвольно, и буква в верхнем регистре считается младше, чем в нижнем.\n",
    "Поэтому они идут первыми.\n",
    "Но мы хотим, чтобы сортировка была по алфавиту. Мы можем просто применить строковой метод lower() к каждому элементу списка, \n",
    "но тогда они все изменятся, а нам бы хотелось сохранить изначальный вид. Для этого мы создаем функцию lwr(), которая принимает \n",
    "в себя переменную, затем выполняет над ней метод lower() и возвращает результат. И эту функцию мы указываем как необязательный \n",
    "параметр key во второй сортировке.\n",
    "Результат — вторая строка и видно, что все сработало как ожидается, сначала «белый», потом «Голубой».\n",
    "Мы можем упростить это выражение и использовать лямбда-функцию, как показано в последней строке примера. \n",
    "Этот код делает все точно так же, как и в предыдущем примере, но занимает одну строчку вместо трех, потребляет немного меньше \n",
    "памяти и будет немного быстрее. А самое главное — он гораздо лаконичнее и понятнее предыдущей записи, поэтому именно в \n",
    "таких случаях и стоит использовать лямбда-функции.'''\n",
    "\n",
    "colors = [\"Красный\", \"синий\", \"черный\", \"белый\", \"Голубой\"]\n",
    "\n",
    "print(sorted(colors))\n",
    "\n",
    "# ---\n",
    "# ---\n",
    "\n",
    "def lwr(s):\n",
    "    return s.lower()\n",
    "\n",
    "print(sorted(colors, key=lwr))\n",
    "\n",
    "# ---\n",
    "# ---\n",
    "\n",
    "print(sorted(colors, key=lambda s: s.lower()))"
   ]
  },
  {
   "cell_type": "code",
   "execution_count": 36,
   "metadata": {},
   "outputs": [
    {
     "name": "stdout",
     "output_type": "stream",
     "text": [
      "0.5\n"
     ]
    }
   ],
   "source": [
    "#Задание 13.5.1. Что выведет программа?\n",
    "values = [-7, -7, 7, 7]\n",
    "std = 42\n",
    "\n",
    "def count_std():\n",
    "    mean = sum(values)/len(values)\n",
    "    std = (sum([(value-mean)**2 for value in values])/len(values))**0.5\n",
    "    return std\n",
    "\n",
    "def normalize(value):\n",
    "    result = value/std\n",
    "    return result \n",
    "\n",
    "print(normalize(21))"
   ]
  },
  {
   "cell_type": "code",
   "execution_count": 37,
   "metadata": {},
   "outputs": [
    {
     "data": {
      "text/plain": [
       "<function __main__.<lambda>(x, y)>"
      ]
     },
     "execution_count": 37,
     "metadata": {},
     "output_type": "execute_result"
    }
   ],
   "source": [
    "#Задание 13.5.2. Есть фрагмент кода. Необходимо записать то же самое, но с использованием лямбда-функции.\n",
    "\n",
    "def name(x, y):  \n",
    "    return x + y\n",
    "lambda x, y: x + y"
   ]
  },
  {
   "cell_type": "code",
   "execution_count": 38,
   "metadata": {},
   "outputs": [
    {
     "name": "stdout",
     "output_type": "stream",
     "text": [
      "Введите число:5\n",
      "Сумма всех цифр факториала, стоящих на нечетных позициях длиной 5, равна 127\n"
     ]
    }
   ],
   "source": [
    "'''Задание 13.5.3.\n",
    "Написать программу, которая принимает на вход от пользователя целое число — это будет длина ряда чисел, которые являются \n",
    "факториалами своего индекса. Напомним: факториал числа — это произведение всех целых чисел от 1 до числа.\n",
    "Например, 5! = 1*2*3*4*5 = 120.\n",
    "Если введено число 5, то получен ряд: 1!, 2!, 3!, 4!, 5! Расшифровывается это в ряд 1, 2, 6, 24, 120.\n",
    "Программа должна выводить сумму всех чисел на нечетных позициях этого ряда. \n",
    "То есть для цифры 5 ответ будет 1 + 6 + 120 = 127.'''\n",
    "\n",
    "def factorial(n):\n",
    "    if n == 0:\n",
    "        return 1\n",
    "    return factorial(n - 1) * n\n",
    "\n",
    "number = int(input(\"Введите число:\"))\n",
    "row = []\n",
    "\n",
    "for i in range(number + 1):\n",
    "    if i % 2 != 0:\n",
    "        row.append(factorial(i))\n",
    "\n",
    "Sum = 0\n",
    "for j in row:\n",
    "    Sum += j\n",
    "\n",
    "print(f\"Сумма всех цифр факториала, стоящих на нечетных позициях длиной {number}, равна {Sum}\")"
   ]
  },
  {
   "cell_type": "code",
   "execution_count": null,
   "metadata": {},
   "outputs": [],
   "source": []
  }
 ],
 "metadata": {
  "kernelspec": {
   "display_name": "Python 3.8.4 64-bit",
   "language": "python",
   "name": "python38464bit8ddfffc2884943828320e5a89c55c7cc"
  },
  "language_info": {
   "codemirror_mode": {
    "name": "ipython",
    "version": 3
   },
   "file_extension": ".py",
   "mimetype": "text/x-python",
   "name": "python",
   "nbconvert_exporter": "python",
   "pygments_lexer": "ipython3",
   "version": "3.8.4rc1"
  }
 },
 "nbformat": 4,
 "nbformat_minor": 4
}
