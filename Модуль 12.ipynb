{
 "cells": [
  {
   "cell_type": "code",
   "execution_count": 1,
   "metadata": {},
   "outputs": [
    {
     "name": "stdout",
     "output_type": "stream",
     "text": [
      "[[1, 2, 'пять', <class 'int'>], 5, 8]\n"
     ]
    }
   ],
   "source": [
    "#Списки - могут содержать разные элементы числа, строки, типы.\n",
    "a = [1, 2, 'пять', (type(3))]\n",
    "b = [a, 5, 8]\n",
    "print(b)"
   ]
  },
  {
   "cell_type": "code",
   "execution_count": 2,
   "metadata": {},
   "outputs": [
    {
     "name": "stdout",
     "output_type": "stream",
     "text": [
      "4\n"
     ]
    }
   ],
   "source": [
    "#Длина списка c вложенным списком\n",
    "a = [1, 2, 3, ['11', '22', '33']]\n",
    "print(len(a))"
   ]
  },
  {
   "cell_type": "code",
   "execution_count": 3,
   "metadata": {},
   "outputs": [
    {
     "name": "stdout",
     "output_type": "stream",
     "text": [
      "['11', '22', '33']\n"
     ]
    }
   ],
   "source": [
    "#Выводить значение по индексу (индексация, как и в строках, начинается с нуля)\n",
    "print(a[3])"
   ]
  },
  {
   "cell_type": "code",
   "execution_count": 4,
   "metadata": {},
   "outputs": [
    {
     "name": "stdout",
     "output_type": "stream",
     "text": [
      "33\n"
     ]
    }
   ],
   "source": [
    "#Выводить значения по индексу для двумерных списков аналогично одномерному\n",
    "print(a[3][2])  # в основном списке 3 элемент, в подсписке 2 элемент - 33."
   ]
  },
  {
   "cell_type": "code",
   "execution_count": 2,
   "metadata": {},
   "outputs": [
    {
     "name": "stdout",
     "output_type": "stream",
     "text": [
      "[['11', '22', '33'], 3, 2, 1]\n"
     ]
    }
   ],
   "source": [
    "#Срезы в списках\n",
    "a = [1, 2, 3, ['11', '22', '33']]\n",
    "print(a[::-1])   #без ограничения весь список в обратном порядке"
   ]
  },
  {
   "cell_type": "code",
   "execution_count": 3,
   "metadata": {},
   "outputs": [
    {
     "name": "stdout",
     "output_type": "stream",
     "text": [
      "[1, 2, 3, ['11', '22', '33'], 1, 2, 3, ['11', '22', '33'], 1, 2, 3, ['11', '22', '33']]\n"
     ]
    }
   ],
   "source": [
    "#Дублирование\n",
    "print(a*3)"
   ]
  },
  {
   "cell_type": "code",
   "execution_count": 4,
   "metadata": {},
   "outputs": [
    {
     "name": "stdout",
     "output_type": "stream",
     "text": [
      "[1, 2, 3, ['11', '22', '33'], 5, 6, 7]\n"
     ]
    }
   ],
   "source": [
    "#Сложение списков\n",
    "b = [5, 6, 7]\n",
    "print(a + b)"
   ]
  },
  {
   "cell_type": "code",
   "execution_count": 6,
   "metadata": {},
   "outputs": [
    {
     "name": "stdout",
     "output_type": "stream",
     "text": [
      "[1, 2, 3, ['11', '22', '33'], 5, 6, 7]\n"
     ]
    }
   ],
   "source": [
    "#Или\n",
    "a += b\n",
    "print(a)"
   ]
  },
  {
   "cell_type": "code",
   "execution_count": 7,
   "metadata": {},
   "outputs": [
    {
     "name": "stdout",
     "output_type": "stream",
     "text": [
      "['с', 'т', 'р', 'о', 'к', 'а']\n"
     ]
    }
   ],
   "source": [
    "#Метод .list переводит строки в список отдельных элементов\n",
    "print(list('строка'))"
   ]
  },
  {
   "cell_type": "code",
   "execution_count": 9,
   "metadata": {},
   "outputs": [
    {
     "name": "stdout",
     "output_type": "stream",
     "text": [
      "['строка ', 'с ', ' разделителями ', ' в виде ', ' точки_с_запятой']\n"
     ]
    }
   ],
   "source": [
    "#Метод .split позволяет разделить строку в список по заданному разделителю\n",
    "print('строка ;с ; разделителями ; в виде ; точки_с_запятой'.split(';'))"
   ]
  },
  {
   "cell_type": "code",
   "execution_count": 11,
   "metadata": {},
   "outputs": [
    {
     "name": "stdout",
     "output_type": "stream",
     "text": [
      "раз _ два _ три\n",
      "раз _ два _ три\n"
     ]
    }
   ],
   "source": [
    "#Метод .join  переводит список в строку\n",
    "print(' _ '.join(['раз', 'два', 'три']))   \n",
    "print('раз'+' _ '+'два'+' _ '+'три')  #запись строкой"
   ]
  },
  {
   "cell_type": "code",
   "execution_count": 14,
   "metadata": {},
   "outputs": [
    {
     "name": "stdout",
     "output_type": "stream",
     "text": [
      "[1, 2, 3, 4]\n"
     ]
    }
   ],
   "source": [
    "#Метод .append добавление элемента массива\n",
    "a = [1, 2, 3]\n",
    "a.append(4)\n",
    "print(a)\n"
   ]
  },
  {
   "cell_type": "code",
   "execution_count": 15,
   "metadata": {},
   "outputs": [
    {
     "name": "stdout",
     "output_type": "stream",
     "text": [
      "[1, 2, 3, 4, 5]\n"
     ]
    }
   ],
   "source": [
    "#Добавление элемента массива присоединением\n",
    "a = a + [5]\n",
    "print(a)"
   ]
  },
  {
   "cell_type": "code",
   "execution_count": 16,
   "metadata": {},
   "outputs": [
    {
     "name": "stdout",
     "output_type": "stream",
     "text": [
      "[1, 2, 'a', 3, 4, 5]\n"
     ]
    }
   ],
   "source": [
    "#Метод .insert вставка. Первый параметр - место куда вставить элемент, второй - сам элемент. \n",
    "a.insert(2, 'a')\n",
    "print(a)\n"
   ]
  },
  {
   "cell_type": "code",
   "execution_count": 17,
   "metadata": {},
   "outputs": [
    {
     "name": "stdout",
     "output_type": "stream",
     "text": [
      "[1, 2, 3, 4, 5]\n"
     ]
    }
   ],
   "source": [
    "#Метод .remove удаляет элемент\n",
    "a.remove('a')\n",
    "print(a)"
   ]
  },
  {
   "cell_type": "code",
   "execution_count": 18,
   "metadata": {},
   "outputs": [
    {
     "name": "stdout",
     "output_type": "stream",
     "text": [
      "[1, 3, 4, 5]\n"
     ]
    }
   ],
   "source": [
    "#Метод .del удаляет элемент по индексу\n",
    "del a[1]\n",
    "print(a)"
   ]
  },
  {
   "cell_type": "code",
   "execution_count": 19,
   "metadata": {},
   "outputs": [
    {
     "name": "stdout",
     "output_type": "stream",
     "text": [
      "[1, 5]\n"
     ]
    }
   ],
   "source": [
    "#Удаление среза\n",
    "del a[1:3]\n",
    "print(a)"
   ]
  },
  {
   "cell_type": "code",
   "execution_count": 22,
   "metadata": {},
   "outputs": [
    {
     "name": "stdout",
     "output_type": "stream",
     "text": [
      "5\n",
      "[1, 2, 3, 4]\n"
     ]
    }
   ],
   "source": [
    "#Метод .pop удаляет элемент и возвращает его\n",
    "a = [1, 2, 3, 4, 5]\n",
    "print(f'{a.pop()}')  #удаляет последний элемент, если в () ничего не указано\n",
    "print(a)\n"
   ]
  },
  {
   "cell_type": "code",
   "execution_count": 23,
   "metadata": {},
   "outputs": [
    {
     "name": "stdout",
     "output_type": "stream",
     "text": [
      "3\n",
      "[1, 2, 4]\n"
     ]
    }
   ],
   "source": [
    "print(f'{a.pop(2)}')\n",
    "print(a)"
   ]
  },
  {
   "cell_type": "code",
   "execution_count": 25,
   "metadata": {},
   "outputs": [
    {
     "name": "stdout",
     "output_type": "stream",
     "text": [
      "[0, 1, 4, 4, 11, 21, 100]\n",
      "[1, 4, 4, 0, 21, 11, 100]\n"
     ]
    }
   ],
   "source": [
    "#Сортировка массива с помощью функции sorted, изначальный массив при этом не изменяется.\n",
    "a = [1, 4, 4, 0, 21, 11, 100]\n",
    "print(f'{sorted(a)}')\n",
    "print(a)"
   ]
  },
  {
   "cell_type": "code",
   "execution_count": 27,
   "metadata": {},
   "outputs": [
    {
     "name": "stdout",
     "output_type": "stream",
     "text": [
      "None\n",
      "[0, 1, 4, 4, 11, 21, 100]\n"
     ]
    }
   ],
   "source": [
    "#Метод .sort сортирует и меняет массив\n",
    "a = [1, 4, 4, 0, 21, 11, 100]\n",
    "print(a.sort())\n",
    "print(a)"
   ]
  },
  {
   "cell_type": "code",
   "execution_count": 28,
   "metadata": {},
   "outputs": [
    {
     "name": "stdout",
     "output_type": "stream",
     "text": [
      "[100, 21, 11, 4, 4, 1, 0]\n"
     ]
    }
   ],
   "source": [
    "#Сортировка в обратном порядке\n",
    "print(sorted(a)[::-1])"
   ]
  },
  {
   "cell_type": "code",
   "execution_count": 29,
   "metadata": {},
   "outputs": [
    {
     "name": "stdout",
     "output_type": "stream",
     "text": [
      "0\n",
      "100\n"
     ]
    }
   ],
   "source": [
    "#Нахождение минимального и максимального значения в списке - min и max\n",
    "print(min(a))\n",
    "print(max(a))"
   ]
  },
  {
   "cell_type": "code",
   "execution_count": 31,
   "metadata": {},
   "outputs": [
    {
     "name": "stdout",
     "output_type": "stream",
     "text": [
      "2\n",
      "0\n"
     ]
    }
   ],
   "source": [
    "#Метод .count считает количество вхождений элемента в массиве\n",
    "print(a.count(4))\n",
    "print(a.count(25))"
   ]
  },
  {
   "cell_type": "code",
   "execution_count": 32,
   "metadata": {},
   "outputs": [
    {
     "ename": "TypeError",
     "evalue": "'<' not supported between instances of 'str' and 'int'",
     "output_type": "error",
     "traceback": [
      "\u001b[1;31m---------------------------------------------------------------------------\u001b[0m",
      "\u001b[1;31mTypeError\u001b[0m                                 Traceback (most recent call last)",
      "\u001b[1;32m<ipython-input-32-b60fca5ecf5f>\u001b[0m in \u001b[0;36m<module>\u001b[1;34m\u001b[0m\n\u001b[0;32m      1\u001b[0m \u001b[1;31m#Методы sorted, min, max работают только с однородными элементами, которые можно сравнить между собой\u001b[0m\u001b[1;33m\u001b[0m\u001b[1;33m\u001b[0m\u001b[1;33m\u001b[0m\u001b[0m\n\u001b[0;32m      2\u001b[0m \u001b[0ma\u001b[0m \u001b[1;33m=\u001b[0m \u001b[1;33m[\u001b[0m\u001b[1;36m1\u001b[0m\u001b[1;33m,\u001b[0m \u001b[1;36m5\u001b[0m\u001b[1;33m,\u001b[0m \u001b[1;36m2\u001b[0m\u001b[1;33m,\u001b[0m \u001b[1;34m'a'\u001b[0m\u001b[1;33m]\u001b[0m\u001b[1;33m\u001b[0m\u001b[1;33m\u001b[0m\u001b[0m\n\u001b[1;32m----> 3\u001b[1;33m \u001b[0mprint\u001b[0m\u001b[1;33m(\u001b[0m\u001b[0msorted\u001b[0m\u001b[1;33m(\u001b[0m\u001b[0ma\u001b[0m\u001b[1;33m)\u001b[0m\u001b[1;33m)\u001b[0m\u001b[1;33m\u001b[0m\u001b[1;33m\u001b[0m\u001b[0m\n\u001b[0m",
      "\u001b[1;31mTypeError\u001b[0m: '<' not supported between instances of 'str' and 'int'"
     ]
    }
   ],
   "source": [
    "#Методы sorted, min, max работают только с однородными элементами, которые можно сравнить между собой\n",
    "a = [1, 5, 2, 'a']\n",
    "print(sorted(a))"
   ]
  },
  {
   "cell_type": "code",
   "execution_count": 43,
   "metadata": {},
   "outputs": [
    {
     "name": "stdout",
     "output_type": "stream",
     "text": [
      "['a', 'aaas', 'aba', 'b', 'bsadas']\n"
     ]
    }
   ],
   "source": [
    "b = ['a', 'bsadas', 'b', 'aaas', 'aba' ]\n",
    "print(sorted(b))   #Сравнение по алфавиту"
   ]
  },
  {
   "cell_type": "code",
   "execution_count": 45,
   "metadata": {},
   "outputs": [
    {
     "name": "stdout",
     "output_type": "stream",
     "text": [
      "a\n",
      "bsadas\n",
      "1\n",
      "0\n"
     ]
    }
   ],
   "source": [
    "print(min(b))\n",
    "print(max(b))\n",
    "print(b.count('a'))  \n",
    "print(b.count(a))"
   ]
  },
  {
   "cell_type": "code",
   "execution_count": 56,
   "metadata": {},
   "outputs": [
    {
     "name": "stdout",
     "output_type": "stream",
     "text": [
      "bz\n"
     ]
    }
   ],
   "source": [
    "b = ['a', 'bsadas', 'b', 'aaas', 'aba', 'bz']\n",
    "print(max(b))"
   ]
  },
  {
   "cell_type": "code",
   "execution_count": 57,
   "metadata": {},
   "outputs": [
    {
     "name": "stdout",
     "output_type": "stream",
     "text": [
      "Шаг цикла 1, значение j = 1\n",
      "Шаг цикла 2, значение j = 2\n",
      "Шаг цикла 3, значение j = Текст\n",
      "Шаг цикла 4, значение j = True\n",
      "Шаг цикла 5, значение j = [3, 45]\n"
     ]
    }
   ],
   "source": [
    "#Цикл for - исполняется до тех пор пока есть итерации в итирируемом объекте (конечный список). \n",
    "a = [1, 2, 'Текст', True, [3, 45]] #массив (а) состоит из 5 элементов, может отдавать их по одному\n",
    "i = 1 #шаг цикла, элементы отдаются по одному   j - значение элемента из списка\n",
    "\n",
    "for j in a:\n",
    "    print(f'Шаг цикла {i}, значение j = {j}')\n",
    "    i += 1\n"
   ]
  },
  {
   "cell_type": "code",
   "execution_count": 59,
   "metadata": {},
   "outputs": [
    {
     "name": "stdout",
     "output_type": "stream",
     "text": [
      "Шаг цикла 1, значение - 1\n",
      "Шаг цикла 2, значение - 2\n",
      "Шаг цикла 3, значение - Текст\n",
      "Шаг цикла 4, значение - True\n",
      "Шаг цикла 5, значение - [3, 45]\n"
     ]
    }
   ],
   "source": [
    "#То же самое с помощью цикла while. Менее читаемо, можно ошибочно сделать цикл бесконечным, более медленный. \n",
    "a = [1, 2, 'Текст', True, [3, 45]]\n",
    "i = 0\n",
    "while i < len(a):\n",
    "    print(f'Шаг цикла {i + 1}, значение - {a[i]}')\n",
    "    i += 1"
   ]
  },
  {
   "cell_type": "code",
   "execution_count": 62,
   "metadata": {},
   "outputs": [
    {
     "name": "stdout",
     "output_type": "stream",
     "text": [
      "с\n",
      "т\n",
      "р\n",
      "о\n",
      "к\n",
      "а\n"
     ]
    }
   ],
   "source": [
    "#Цикл for проходит только по итерируемым объектам - список, строка.\n",
    "a = 'строка'\n",
    "for i in a:\n",
    "    print(i)"
   ]
  },
  {
   "cell_type": "code",
   "execution_count": 64,
   "metadata": {},
   "outputs": [
    {
     "name": "stdout",
     "output_type": "stream",
     "text": [
      "range(0, 5)\n",
      "range(2, 5)\n",
      "range(1, 10, 3)\n"
     ]
    }
   ],
   "source": [
    "#Функция range\n",
    "a = range(5)  #возвращает ряд от 0 до 5 (0, 1, 2, 3, 4)  5 не включается\n",
    "b = range(2, 5)  #начальный элемент начинается с 2 (2, 3, 4)\n",
    "c = range(1, 10, 3) #начальный элемент 1, конечный невключенный 10, шаг 3 (1, 4, 7)\n",
    "print(a)\n",
    "print(b)\n",
    "print(c)"
   ]
  },
  {
   "cell_type": "code",
   "execution_count": 65,
   "metadata": {},
   "outputs": [
    {
     "name": "stdout",
     "output_type": "stream",
     "text": [
      "0\n",
      "1\n",
      "2\n",
      "3\n",
      "4\n"
     ]
    }
   ],
   "source": [
    "for i in a:\n",
    "    print(i)"
   ]
  },
  {
   "cell_type": "code",
   "execution_count": 66,
   "metadata": {},
   "outputs": [
    {
     "name": "stdout",
     "output_type": "stream",
     "text": [
      "2\n",
      "3\n",
      "4\n"
     ]
    }
   ],
   "source": [
    "for i in b:\n",
    "    print(i)"
   ]
  },
  {
   "cell_type": "code",
   "execution_count": 67,
   "metadata": {},
   "outputs": [
    {
     "name": "stdout",
     "output_type": "stream",
     "text": [
      "1\n",
      "4\n",
      "7\n"
     ]
    }
   ],
   "source": [
    "for i in c:\n",
    "    print(i)"
   ]
  },
  {
   "cell_type": "code",
   "execution_count": 1,
   "metadata": {},
   "outputs": [
    {
     "name": "stdout",
     "output_type": "stream",
     "text": [
      "0\n",
      "1\n",
      "3\n",
      "----------------------\n",
      "Достижимый print\n"
     ]
    }
   ],
   "source": [
    "#В цикле for можно использовать continue, break, else\n",
    "\n",
    "for i in range(10):  #цикл от 0 до 9\n",
    "    if i == 2:  #0 и 1 просто выводятся на печать, на шаге 2 выполняется continue, поэтому не выводится, шаг 3 опять выводится\n",
    "        continue  \n",
    "    elif i == 4:  #на шаге 4 происходит break, поэтому 5, 6, 7, 8, 9 пропускаются\n",
    "        break\n",
    "    print(i)\n",
    "else:\n",
    "    print('Недостижимый print')  #не срабатывает, т.к. закончили по ключевому слову break\n",
    "print('----------------------')\n",
    "\n",
    "z = 4\n",
    "for i in [1, 2, 3]:\n",
    "    if i == z:\n",
    "        print(i)  #цифры 4 в списке нет, поэтому срабатывает false\n",
    "else:\n",
    "    print('Достижимый print')  #выводится, т.к. в if были false\n"
   ]
  },
  {
   "cell_type": "code",
   "execution_count": 6,
   "metadata": {},
   "outputs": [
    {
     "name": "stdout",
     "output_type": "stream",
     "text": [
      "Самый частый знак в тексте: \"e\"\n"
     ]
    }
   ],
   "source": [
    "text = \"\"\"Lorem ipsum dolor sit amet, consectetur adipiscing elit. Vestibulum eget tempus est. Phasellus sit amet \n",
    "tristique neque. Sed luctus mi ut nisi suscipit placerat. Nunc nec diam dapibus, fermentum risus ut, ultrices orci. \n",
    "Integer non magna molestie nibh dapibus tincidunt. Quisque quis est quam. Sed dictum mi sit amet magna pretium blandit. \n",
    "Nulla tortor turpis, maximus vitae lobortis quis, varius sed metus. Nullam at congue metus. Pellentesque scelerisque, dui \n",
    "et luctus semper, odio diam scelerisque justo, nec tempor ex metus et enim. Praesent rhoncus nisl eget risus elementum ornare. \n",
    "Praesent tellus mauris, viverra vitae malesuada at, ornare id nisi. Vestibulum.\"\"\"\n",
    "\n",
    "text = text.replace(\" \", \"\").lower() #убираем пробелы и заглавные буквы переводим в строчные для участия в посчете\n",
    "\n",
    "most_common = None\n",
    "qty_most_common = 0\n",
    "\n",
    "for i in text:\n",
    "    qty = text.count(i)\n",
    "    if qty > qty_most_common:\n",
    "        qty_most_common = qty\n",
    "        most_common = i\n",
    "        \n",
    "print(f'Самый частый знак в тексте: \"{most_common}\"')    "
   ]
  },
  {
   "cell_type": "code",
   "execution_count": null,
   "metadata": {},
   "outputs": [],
   "source": [
    "'''Кортежи - это такие же объекты как списки, только неизменяемые. С кортежами работают все те же методы и функции, что и \n",
    "со списками, за исключением тех, что каким-либо образом меняют список. Применяются в тех случаях, когда есть опасения изменения\n",
    "данных массива случайно или специально. Также они меньше занимают памяти по сравнению со списками'''"
   ]
  },
  {
   "cell_type": "code",
   "execution_count": 7,
   "metadata": {},
   "outputs": [
    {
     "name": "stdout",
     "output_type": "stream",
     "text": [
      "s\n"
     ]
    }
   ],
   "source": [
    "#Вызов элемента в строке по индексу\n",
    "a = ('ssasfs')\n",
    "print(a[0])"
   ]
  },
  {
   "cell_type": "code",
   "execution_count": 8,
   "metadata": {},
   "outputs": [
    {
     "ename": "TypeError",
     "evalue": "'str' object does not support item assignment",
     "output_type": "error",
     "traceback": [
      "\u001b[1;31m---------------------------------------------------------------------------\u001b[0m",
      "\u001b[1;31mTypeError\u001b[0m                                 Traceback (most recent call last)",
      "\u001b[1;32m<ipython-input-8-5d8f2f6dbdbb>\u001b[0m in \u001b[0;36m<module>\u001b[1;34m\u001b[0m\n\u001b[0;32m      1\u001b[0m \u001b[1;31m#Замена элемента по индексу в строке не возможна\u001b[0m\u001b[1;33m\u001b[0m\u001b[1;33m\u001b[0m\u001b[1;33m\u001b[0m\u001b[0m\n\u001b[1;32m----> 2\u001b[1;33m \u001b[0ma\u001b[0m\u001b[1;33m[\u001b[0m\u001b[1;36m0\u001b[0m\u001b[1;33m]\u001b[0m \u001b[1;33m=\u001b[0m \u001b[1;34m'b'\u001b[0m\u001b[1;33m\u001b[0m\u001b[1;33m\u001b[0m\u001b[0m\n\u001b[0m\u001b[0;32m      3\u001b[0m \u001b[0mprint\u001b[0m\u001b[1;33m(\u001b[0m\u001b[0ma\u001b[0m\u001b[1;33m)\u001b[0m\u001b[1;33m\u001b[0m\u001b[1;33m\u001b[0m\u001b[0m\n",
      "\u001b[1;31mTypeError\u001b[0m: 'str' object does not support item assignment"
     ]
    }
   ],
   "source": [
    "#Замена элемента по индексу в строке не возможна\n",
    "a[0] = 'b'\n",
    "print(a)"
   ]
  },
  {
   "cell_type": "code",
   "execution_count": 9,
   "metadata": {},
   "outputs": [
    {
     "name": "stdout",
     "output_type": "stream",
     "text": [
      "1\n"
     ]
    }
   ],
   "source": [
    "#Вызов элемента в списке по индексу\n",
    "a = [1, 2, 3, 4, 5]\n",
    "print(a[0])"
   ]
  },
  {
   "cell_type": "code",
   "execution_count": 10,
   "metadata": {},
   "outputs": [
    {
     "name": "stdout",
     "output_type": "stream",
     "text": [
      "[2, 2, 3, 4, 5]\n"
     ]
    }
   ],
   "source": [
    "#Замена элемента по индексу в списке возможна\n",
    "a[0] = 2\n",
    "print(a)"
   ]
  },
  {
   "cell_type": "code",
   "execution_count": 11,
   "metadata": {},
   "outputs": [
    {
     "name": "stdout",
     "output_type": "stream",
     "text": [
      "1\n"
     ]
    }
   ],
   "source": [
    "#Кортеж ведет себя как строка\n",
    "a = (1, 2, 3, 4, 5)\n",
    "print(a[0])"
   ]
  },
  {
   "cell_type": "code",
   "execution_count": 12,
   "metadata": {},
   "outputs": [
    {
     "ename": "TypeError",
     "evalue": "'tuple' object does not support item assignment",
     "output_type": "error",
     "traceback": [
      "\u001b[1;31m---------------------------------------------------------------------------\u001b[0m",
      "\u001b[1;31mTypeError\u001b[0m                                 Traceback (most recent call last)",
      "\u001b[1;32m<ipython-input-12-84f257ed9428>\u001b[0m in \u001b[0;36m<module>\u001b[1;34m\u001b[0m\n\u001b[1;32m----> 1\u001b[1;33m \u001b[0ma\u001b[0m\u001b[1;33m[\u001b[0m\u001b[1;36m0\u001b[0m\u001b[1;33m]\u001b[0m \u001b[1;33m=\u001b[0m \u001b[1;36m2\u001b[0m\u001b[1;33m\u001b[0m\u001b[1;33m\u001b[0m\u001b[0m\n\u001b[0m\u001b[0;32m      2\u001b[0m \u001b[0mprint\u001b[0m\u001b[1;33m(\u001b[0m\u001b[0ma\u001b[0m\u001b[1;33m)\u001b[0m\u001b[1;33m\u001b[0m\u001b[1;33m\u001b[0m\u001b[0m\n",
      "\u001b[1;31mTypeError\u001b[0m: 'tuple' object does not support item assignment"
     ]
    }
   ],
   "source": [
    "a[0] = 2\n",
    "print(a)"
   ]
  },
  {
   "cell_type": "code",
   "execution_count": 13,
   "metadata": {},
   "outputs": [
    {
     "data": {
      "text/plain": [
       "[1, 2, 3, 4, 5]"
      ]
     },
     "execution_count": 13,
     "metadata": {},
     "output_type": "execute_result"
    }
   ],
   "source": [
    "#C кортежами работает функция sorted, метод .sort не работает, т.к. он меняет кортеж (!)\n",
    "a = (2, 4, 1, 3, 5)\n",
    "sorted(a)"
   ]
  },
  {
   "cell_type": "code",
   "execution_count": 14,
   "metadata": {},
   "outputs": [
    {
     "name": "stdout",
     "output_type": "stream",
     "text": [
      "[1, 2, 3, [1, 2, 3]]\n",
      "(1, 2, 3, [1, 2, 3])\n"
     ]
    }
   ],
   "source": [
    "#Можно изменять части кортежа\n",
    "a = [1, 2, 3, [1, 2, 3]]\n",
    "b = tuple(a)\n",
    "print(a)\n",
    "print(b)"
   ]
  },
  {
   "cell_type": "code",
   "execution_count": 15,
   "metadata": {},
   "outputs": [
    {
     "name": "stdout",
     "output_type": "stream",
     "text": [
      "(1, 2, 3, [1, 2, 3, 4])\n"
     ]
    }
   ],
   "source": [
    "#Cписок внутри кортежа можно изменять\n",
    "b[3].append(4)\n",
    "print(b)"
   ]
  },
  {
   "cell_type": "code",
   "execution_count": 16,
   "metadata": {},
   "outputs": [
    {
     "name": "stdout",
     "output_type": "stream",
     "text": [
      "{0.2, 2, 3, 4, 5, 6, 7, 11, 22}\n"
     ]
    }
   ],
   "source": [
    "'''Множества — это объекты, которые содержат в себе неупорядоченные уникальные объекты неизменяемых типов. Поскольку множество \n",
    "— неупорядоченный объект, то обратиться по индексу к элементу множества нельзя. Но можно узнать, есть ли какой-то объект во \n",
    "множестве или нет, с помощью оператора in, который вернёт False, если элемент отсутствует, и True, если присутствует.'''\n",
    "a = {11, 22, 0.2, 2, 2, 3, 4, 4, 4, 5, 2, 6, 7}\n",
    "print(a)"
   ]
  },
  {
   "cell_type": "code",
   "execution_count": 17,
   "metadata": {},
   "outputs": [
    {
     "name": "stdout",
     "output_type": "stream",
     "text": [
      "{1, 2, 3, 4, '1', '2', '3'}\n"
     ]
    }
   ],
   "source": [
    "#Из списка удалить дубли с помощью команды set, которая переводит в множество\n",
    "a = [1, 2, 3, '1', '2', '3', 1, 2, 3, 4]\n",
    "print(set(a))"
   ]
  },
  {
   "cell_type": "code",
   "execution_count": 21,
   "metadata": {},
   "outputs": [
    {
     "ename": "TypeError",
     "evalue": "'set' object is not subscriptable",
     "output_type": "error",
     "traceback": [
      "\u001b[1;31m---------------------------------------------------------------------------\u001b[0m",
      "\u001b[1;31mTypeError\u001b[0m                                 Traceback (most recent call last)",
      "\u001b[1;32m<ipython-input-21-b145c25ddda8>\u001b[0m in \u001b[0;36m<module>\u001b[1;34m\u001b[0m\n\u001b[0;32m      1\u001b[0m \u001b[1;31m#К элементам множества нельзя обращаться по индексу\u001b[0m\u001b[1;33m\u001b[0m\u001b[1;33m\u001b[0m\u001b[1;33m\u001b[0m\u001b[0m\n\u001b[0;32m      2\u001b[0m \u001b[0ma\u001b[0m \u001b[1;33m=\u001b[0m \u001b[1;33m{\u001b[0m\u001b[1;36m1\u001b[0m\u001b[1;33m,\u001b[0m \u001b[1;36m2\u001b[0m\u001b[1;33m,\u001b[0m \u001b[1;36m3\u001b[0m\u001b[1;33m,\u001b[0m \u001b[1;36m4\u001b[0m\u001b[1;33m,\u001b[0m \u001b[1;34m'1'\u001b[0m\u001b[1;33m,\u001b[0m \u001b[1;34m'2'\u001b[0m\u001b[1;33m,\u001b[0m \u001b[1;34m'3'\u001b[0m\u001b[1;33m}\u001b[0m\u001b[1;33m\u001b[0m\u001b[1;33m\u001b[0m\u001b[0m\n\u001b[1;32m----> 3\u001b[1;33m \u001b[0mprint\u001b[0m\u001b[1;33m(\u001b[0m\u001b[0ma\u001b[0m\u001b[1;33m[\u001b[0m\u001b[1;36m3\u001b[0m\u001b[1;33m]\u001b[0m\u001b[1;33m)\u001b[0m\u001b[1;33m\u001b[0m\u001b[1;33m\u001b[0m\u001b[0m\n\u001b[0m",
      "\u001b[1;31mTypeError\u001b[0m: 'set' object is not subscriptable"
     ]
    }
   ],
   "source": [
    "#К элементам множества нельзя обращаться по индексу\n",
    "a = {1, 2, 3, 4, '1', '2', '3'}\n",
    "print(a[3])"
   ]
  },
  {
   "cell_type": "code",
   "execution_count": 23,
   "metadata": {},
   "outputs": [
    {
     "name": "stdout",
     "output_type": "stream",
     "text": [
      "False\n",
      "True\n"
     ]
    }
   ],
   "source": [
    "#Можем проверить есть ли элемент в множестве\n",
    "a = {1, 2, 3}\n",
    "print(4 in a)\n",
    "print(2 in a)"
   ]
  },
  {
   "cell_type": "code",
   "execution_count": 24,
   "metadata": {},
   "outputs": [
    {
     "name": "stdout",
     "output_type": "stream",
     "text": [
      "True\n"
     ]
    }
   ],
   "source": [
    "#Можно добавлять элемент с помощью метода .add\n",
    "a.add(4)\n",
    "print(4 in a)"
   ]
  },
  {
   "cell_type": "code",
   "execution_count": 25,
   "metadata": {},
   "outputs": [
    {
     "name": "stdout",
     "output_type": "stream",
     "text": [
      "{1, 2, 3, 4}\n"
     ]
    }
   ],
   "source": [
    "print(a)"
   ]
  },
  {
   "cell_type": "code",
   "execution_count": 26,
   "metadata": {},
   "outputs": [
    {
     "name": "stdout",
     "output_type": "stream",
     "text": [
      "{1, 2, 3}\n"
     ]
    }
   ],
   "source": [
    "#Можно удалять элемент с помощью метода .discard, .remove, .pop\n",
    "a.discard(4)\n",
    "print(a)"
   ]
  },
  {
   "cell_type": "code",
   "execution_count": 27,
   "metadata": {},
   "outputs": [
    {
     "name": "stdout",
     "output_type": "stream",
     "text": [
      "{1, 3}\n"
     ]
    }
   ],
   "source": [
    "a.remove(2)\n",
    "print(a)"
   ]
  },
  {
   "cell_type": "code",
   "execution_count": 31,
   "metadata": {},
   "outputs": [
    {
     "name": "stdout",
     "output_type": "stream",
     "text": [
      "0\n",
      "{0.2, 2, 3, 4, 5}\n"
     ]
    }
   ],
   "source": [
    "#В множествах метод .pop удаляет не последний элемент, а произвольный элемент, и также его возвращает\n",
    "a = {5, 2, 3, 4, 0, 0.2}\n",
    "print(f'{a.pop()}')\n",
    "print(a)"
   ]
  },
  {
   "cell_type": "code",
   "execution_count": 32,
   "metadata": {},
   "outputs": [
    {
     "name": "stdout",
     "output_type": "stream",
     "text": [
      "{1, 2, 3, 4, 6, 7}\n"
     ]
    }
   ],
   "source": [
    "#Объединение множеств - складываем, убирая дубли\n",
    "a = {1, 2, 3}\n",
    "b = {2, 3, 4}\n",
    "c = {2, 6, 7}\n",
    "print(a.union(b, c))"
   ]
  },
  {
   "cell_type": "code",
   "execution_count": 33,
   "metadata": {},
   "outputs": [
    {
     "name": "stdout",
     "output_type": "stream",
     "text": [
      "{1, 2, 3, 4, 6, 7}\n"
     ]
    }
   ],
   "source": [
    "#Синтаксический сахар\n",
    "print(a | b | c)"
   ]
  },
  {
   "cell_type": "code",
   "execution_count": 35,
   "metadata": {},
   "outputs": [
    {
     "name": "stdout",
     "output_type": "stream",
     "text": [
      "{2, 3}\n"
     ]
    }
   ],
   "source": [
    "#Пересечение множеств - элементы, которые есть в каждом множестве\n",
    "a = {1, 2, 3}\n",
    "b = {2, 3, 4, 7}\n",
    "c = {2, 6, 7, 3}\n",
    "print(a.intersection(b, c))"
   ]
  },
  {
   "cell_type": "code",
   "execution_count": 36,
   "metadata": {},
   "outputs": [
    {
     "name": "stdout",
     "output_type": "stream",
     "text": [
      "{2, 3}\n"
     ]
    }
   ],
   "source": [
    "#Синтаксический сахар\n",
    "print(a & b & c)"
   ]
  },
  {
   "cell_type": "code",
   "execution_count": 39,
   "metadata": {},
   "outputs": [
    {
     "name": "stdout",
     "output_type": "stream",
     "text": [
      "{1}\n",
      "{4}\n",
      "{6}\n"
     ]
    }
   ],
   "source": [
    "#Разница множеств - элемент, которого нет нигде\n",
    "print(a.difference(b, c))\n",
    "print(b.difference(a, c))\n",
    "print(c.difference(a, b))"
   ]
  },
  {
   "cell_type": "code",
   "execution_count": 40,
   "metadata": {},
   "outputs": [
    {
     "name": "stdout",
     "output_type": "stream",
     "text": [
      "{1}\n",
      "{4}\n",
      "{6}\n"
     ]
    }
   ],
   "source": [
    "#Синтаксический сахар\n",
    "print(a - b - c)\n",
    "print(b - a - c)\n",
    "print(c - a - b)"
   ]
  },
  {
   "cell_type": "code",
   "execution_count": 44,
   "metadata": {},
   "outputs": [
    {
     "name": "stdout",
     "output_type": "stream",
     "text": [
      "{1, 4, 7}\n",
      "{4, 6}\n",
      "{1, 6, 7}\n"
     ]
    }
   ],
   "source": [
    "#Симметричная разница - проверяем элементы одного и второго множества относительно друг друга\n",
    "print(a.symmetric_difference(b))\n",
    "print(b.symmetric_difference(c))\n",
    "print(a.symmetric_difference(c))"
   ]
  },
  {
   "cell_type": "code",
   "execution_count": 45,
   "metadata": {},
   "outputs": [
    {
     "name": "stdout",
     "output_type": "stream",
     "text": [
      "{1, 4, 7}\n",
      "{4, 6}\n",
      "{1, 6, 7}\n"
     ]
    }
   ],
   "source": [
    "#Синтаксический сахар\n",
    "print(a ^ b)\n",
    "print(b ^ c)\n",
    "print(a ^ c)"
   ]
  },
  {
   "cell_type": "code",
   "execution_count": 46,
   "metadata": {},
   "outputs": [
    {
     "name": "stdout",
     "output_type": "stream",
     "text": [
      "{'ключ1': 123, 'name': 'aaa'}\n"
     ]
    }
   ],
   "source": [
    "#Словари — это неупорядоченные коллекции произвольных объектов с доступом по ключу.\n",
    "a = {'ключ1' : 123, 'name' : 'aaa'} #ключ1 соответствует значению 123, name соответствует aaa.\n",
    "print(a)"
   ]
  },
  {
   "cell_type": "code",
   "execution_count": 47,
   "metadata": {},
   "outputs": [
    {
     "name": "stdout",
     "output_type": "stream",
     "text": [
      "123\n"
     ]
    }
   ],
   "source": [
    "#Можем обращаться к конкретному ключу\n",
    "print(a['ключ1'])"
   ]
  },
  {
   "cell_type": "code",
   "execution_count": 48,
   "metadata": {},
   "outputs": [
    {
     "name": "stdout",
     "output_type": "stream",
     "text": [
      "{'ключ2': 2, 'name': 'bbb'}\n"
     ]
    }
   ],
   "source": [
    "#Словарь можно создавать либо через запись элементов {} с кавычками, либо через функцию dict\n",
    "b = dict(ключ2 = 2, name = 'bbb')\n",
    "print(b)"
   ]
  },
  {
   "cell_type": "code",
   "execution_count": 49,
   "metadata": {},
   "outputs": [
    {
     "name": "stdout",
     "output_type": "stream",
     "text": [
      "{'ключ1': 123, 'name': 'aaa', 'новый ключ': [1, 2, 3]}\n"
     ]
    }
   ],
   "source": [
    "#Можно добавлять дополнительный ключ к существующему\n",
    "a['новый ключ'] = [1, 2, 3]\n",
    "print(a)"
   ]
  },
  {
   "cell_type": "code",
   "execution_count": 53,
   "metadata": {},
   "outputs": [
    {
     "name": "stdout",
     "output_type": "stream",
     "text": [
      "{'ключ1': 345, 'name': 'aaa', 'новый ключ': [1, 2, 3]}\n"
     ]
    }
   ],
   "source": [
    "#Можно перезаписать значение ключа\n",
    "a['ключ1'] = 345\n",
    "print(a)"
   ]
  },
  {
   "cell_type": "code",
   "execution_count": 63,
   "metadata": {},
   "outputs": [
    {
     "name": "stdout",
     "output_type": "stream",
     "text": [
      "aaa\n"
     ]
    }
   ],
   "source": [
    "#Можно получить значение из словаря\n",
    "a = {'ключ1': 123, 'name': 'aaa', 'новый ключ': [1, 2, 3]}\n",
    "print(a['name'])\n"
   ]
  },
  {
   "cell_type": "code",
   "execution_count": 64,
   "metadata": {},
   "outputs": [
    {
     "name": "stdout",
     "output_type": "stream",
     "text": [
      "('новый ключ', [1, 2, 3])\n",
      "{'ключ1': 123, 'name': 'aaa'}\n"
     ]
    }
   ],
   "source": [
    "#Метод popitem - возвращает произвольный элемент словаря\n",
    "a = {'ключ1': 123, 'name': 'aaa', 'новый ключ': [1, 2, 3]}\n",
    "print(f'{a.popitem()}')\n",
    "print(a)"
   ]
  },
  {
   "cell_type": "code",
   "execution_count": 65,
   "metadata": {},
   "outputs": [
    {
     "name": "stdout",
     "output_type": "stream",
     "text": [
      "dict_keys(['ключ1', 'name'])\n",
      "\n",
      "ключ1\n",
      "name\n"
     ]
    }
   ],
   "source": [
    "#Можно выводить все ключи и все значения\n",
    "keys = a.keys()\n",
    "print(keys, end='\\n\\n')\n",
    "for i in keys:\n",
    "    print(i)"
   ]
  },
  {
   "cell_type": "code",
   "execution_count": 68,
   "metadata": {},
   "outputs": [
    {
     "name": "stdout",
     "output_type": "stream",
     "text": [
      "dict_values([123, 'aaa'])\n",
      "\n",
      "123\n",
      "aaa\n"
     ]
    }
   ],
   "source": [
    "values = a.values()\n",
    "print(values, end='\\n\\n')\n",
    "for i in values:\n",
    "    print(i)"
   ]
  },
  {
   "cell_type": "code",
   "execution_count": 69,
   "metadata": {},
   "outputs": [
    {
     "name": "stdout",
     "output_type": "stream",
     "text": [
      "dict_items([('ключ1', 123), ('name', 'aaa')])\n",
      "\n",
      "('ключ1', 123)\n",
      "('name', 'aaa')\n"
     ]
    }
   ],
   "source": [
    "#Вывод всех элементов словаря кортежами\n",
    "items = a.items()\n",
    "print(items, end='\\n\\n')\n",
    "for i in items:\n",
    "    print(i)"
   ]
  },
  {
   "cell_type": "code",
   "execution_count": 1,
   "metadata": {},
   "outputs": [
    {
     "name": "stdout",
     "output_type": "stream",
     "text": [
      "e\n",
      "s\n"
     ]
    }
   ],
   "source": [
    "#Задание 12.2.3. Какой второй символ по частоте в этом тексте? \n",
    "text = \"\"\"Lorem ipsum dolor sit amet, consectetur adipiscing elit. Vestibulum eget tempus est. Phasellus sit amet \n",
    "tristique neque. Sed luctus mi ut nisi suscipit placerat. Nunc nec diam dapibus, fermentum risus ut, ultrices orci. \n",
    "Integer non magna molestie nibh dapibus tincidunt. Quisque quis est quam. Sed dictum mi sit amet magna pretium blandit. \n",
    "Nulla tortor turpis, maximus vitae lobortis quis, varius sed metus. Nullam at congue metus. Pellentesque scelerisque, dui \n",
    "et luctus semper, odio diam scelerisque justo, nec tempor ex metus et enim. Praesent rhoncus nisl eget risus elementum ornare. \n",
    "Praesent tellus mauris, viverra vitae malesuada at, ornare id nisi. Vestibulum.\"\"\"\n",
    "text = text.replace(\" \", \"\").lower()\n",
    "most_common = None\n",
    "most = 0\n",
    "for item in text:\n",
    "    most_item = text.count(item)\n",
    "    if most_item >= most:\n",
    "        most = most_item\n",
    "        most_common = item\n",
    "print(most_common)\n",
    "second_common = None\n",
    "most_1 = 0\n",
    "for item in text:\n",
    "    most_item = text.count(item)\n",
    "    if most_item >= most_1 and most_item < most:\n",
    "        most_1 = most_item\n",
    "        second_common = item\n",
    "print(second_common)\n"
   ]
  },
  {
   "cell_type": "code",
   "execution_count": 3,
   "metadata": {},
   "outputs": [
    {
     "name": "stdout",
     "output_type": "stream",
     "text": [
      "Самый частый знак текста: 2\n"
     ]
    }
   ],
   "source": [
    "text = [1, 2, 2, 1, 5, 6, 2, 4, 5, 6, 8, 9, 100]\n",
    "most_common = None\n",
    "qty_most_common = 0\n",
    "for item in text:\n",
    "    qty = text.count(item)\n",
    "    if qty > qty_most_common:\n",
    "        qty_most_common = qty\n",
    "        most_common = item\n",
    "print(f'Самый частый знак текста: {most_common}')"
   ]
  },
  {
   "cell_type": "code",
   "execution_count": 6,
   "metadata": {},
   "outputs": [
    {
     "data": {
      "text/plain": [
       "20.0"
      ]
     },
     "execution_count": 6,
     "metadata": {},
     "output_type": "execute_result"
    }
   ],
   "source": [
    "#Задание 12.6.1. Найдите, чему равен x в этом уравнении:\n",
    "#67 + 33 / 25 = x / 25 - 20\n",
    "(67 + 33) * (25 - 20) / 25"
   ]
  },
  {
   "cell_type": "code",
   "execution_count": 8,
   "metadata": {},
   "outputs": [
    {
     "name": "stdout",
     "output_type": "stream",
     "text": [
      "[[1, 2, 3, 4, 5], [6, 7, 8, 9, 10], [11, 12, 13, 14, 15], [16, 6, 18, 19, 20], [21, 22, 23, 24, 25]]\n"
     ]
    }
   ],
   "source": [
    "#Задание 12.6.2. \n",
    "'''Матрица mtx со скриншота записана вот так mtx=[[l1, l2, l3], [j1, j2, j3], [k1, k2, k3]], то есть это список \n",
    "#со вложенными списками. Если мы захотим обратиться к, например, k2, то нам нужно будет сделать запрос mtx[2][1]. \n",
    "#То есть это третья строчка и второй столбец (помним, что нумерация начинается с нуля). У вас есть матрица matrix, \n",
    "#которая равна: mtx = [[1, 2, 3, 4, 5], [6, 7, 8, 9, 10], [11, 12, 13, 14, 15], [16, 17, 18, 19, 20], [21, 22, 23, 24, 25]]. \n",
    "#Вам нужно заменить число 17 на цифру 6. Напишите, какая это будет команда.'''\n",
    "mtx = [[1, 2, 3, 4, 5], [6, 7, 8, 9, 10], [11, 12, 13, 14, 15], [16, 17, 18, 19, 20], [21, 22, 23, 24, 25]]\n",
    "mtx[3][1] = 6\n",
    "print(mtx)"
   ]
  },
  {
   "cell_type": "code",
   "execution_count": 1,
   "metadata": {},
   "outputs": [
    {
     "name": "stdout",
     "output_type": "stream",
     "text": [
      "[[1, 2, 3, 4, 5], [6, 7, 8, 9, 10], [11, 12, 13, 14, 15], [16, 6, 18, 19, 20], [21, 22, 23, 24, 25]]\n"
     ]
    }
   ],
   "source": [
    "a = [[1, 2, 3, 4, 5], [6, 7, 8, 9, 10], [11, 12, 13, 14, 15], [16, 17, 18, 19, 20], [21, 22, 23, 24, 25]]\n",
    "a[3][1] = a[1][0] \n",
    "print(a)"
   ]
  },
  {
   "cell_type": "code",
   "execution_count": 9,
   "metadata": {},
   "outputs": [
    {
     "name": "stdout",
     "output_type": "stream",
     "text": [
      "А роза упала на лапу Азора\n",
      "Это палиндром\n"
     ]
    }
   ],
   "source": [
    "#Задание 12.6.5.\n",
    "'''Напишите программу, которая определяет, является ли строка, введённая пользователем, палиндромом.\n",
    "В первой строчке мы считываем строку от пользователя, убираем в ней пробелы (это нужно, так как в палиндроме не учитываются \n",
    "пробелы) и приводим все символы к нижнему регистру, т.к. буква «А» и буква «а» — считаются разными буквами в Python, но не \n",
    "являются разными с точки зрения палиндрома). А дальше, в цикле мы просто сравниваем первый и последний символ — если они \n",
    "совпадают, то мы сдвигаемся на один и сравниваем уже второй и предпоследний символ и так до того момента, как мы не закончим \n",
    "цикл.'''\n",
    "\n",
    "string = input().replace(' ', '').lower()\n",
    "\n",
    "for i in range(len(string) // 2):\n",
    "    if string[i] != string[-1-i]:\n",
    "        print(\"Это не палиндром\")\n",
    "        break\n",
    "else:\n",
    "    print(\"Это палиндром\")"
   ]
  },
  {
   "cell_type": "code",
   "execution_count": 12,
   "metadata": {},
   "outputs": [
    {
     "name": "stdout",
     "output_type": "stream",
     "text": [
      "Введите emal-ы через запятую: ex@mail.ru, e@mail.com\n",
      "{9: False}\n"
     ]
    }
   ],
   "source": [
    "#Задание 12.6.6.\n",
    "'''Напишите программу, которая определяет, являются ли введённые email'ы валидными. В реальности это практически невозможная \n",
    "задача, которая только кажется простой. Мы не будем решать это для всех вариантов адресов и ограничимся следующими проверками:\n",
    "1. Email'ов может быть сколько угодно, пользователь может вводить их через запятую и пробел: example@mail.com, \n",
    "example2@mail.com, example3@mail.com.\n",
    "2. Проверяем в email:\n",
    "Существует только один знак @ (то есть ex@ample@mail.com — невалидный адрес).\n",
    "Слева от символа @ есть как минимум два символа (то есть e@mail.com — невалидный адрес).\n",
    "Справа от знака @ есть как минимум одна точка (то есть example@mailcom — невалидный адрес).\n",
    "От символа @ до первой точки справа есть как минимум два символа (то есть example@m.com — невалидный адрес).\n",
    "От крайней правой точки до конца слова есть как минимум два символа (то есть example@mail.c — невалидный адрес).\n",
    "3. Отдаём словарь, в котором ключ — это email, а значение True/False, если email валидный или невалидный, соответственно.'''\n",
    "\n",
    "list_email = input('Введите emal-ы через запятую: ').split(', ')\n",
    "dict_email = {}\n",
    "for email in list_email:\n",
    "    result = False #по умолчанию невалидный\n",
    "    if \"@\" in email and email.count(\"@\") >= 1:\n",
    "        name = email.split(\"@\")[0]\n",
    "        if len(name) >= 2:\n",
    "            domen = email.split(\"@\")[1]\n",
    "            if '.' in domen:\n",
    "                if len(domen.split('.')[0]) >= 2:\n",
    "                    if len(domen.split('.')[-1]) >=2:\n",
    "                        result = True\n",
    "    dict_email[i] = result\n",
    "print(dict_email)\n",
    "        \n",
    "\n",
    "\n"
   ]
  },
  {
   "cell_type": "code",
   "execution_count": 2,
   "metadata": {},
   "outputs": [
    {
     "name": "stdout",
     "output_type": "stream",
     "text": [
      "[[1, 2, 3], [4, 5, 6], [7, 8, 9], [10, 11, 12]]\n"
     ]
    }
   ],
   "source": [
    "#Задание 12.2.2.\n",
    "a = []\n",
    "t = 1\n",
    "for i in range(1, 5):\n",
    "    b = []\n",
    "    for j in range(t, t+3):\n",
    "        b.append(j)\n",
    "    t += 3\n",
    "    a.append(b)\n",
    "print(a)    "
   ]
  },
  {
   "cell_type": "code",
   "execution_count": null,
   "metadata": {},
   "outputs": [],
   "source": []
  },
  {
   "cell_type": "code",
   "execution_count": null,
   "metadata": {},
   "outputs": [],
   "source": []
  }
 ],
 "metadata": {
  "kernelspec": {
   "display_name": "Python 3.8.4 64-bit",
   "language": "python",
   "name": "python38464bit8ddfffc2884943828320e5a89c55c7cc"
  },
  "language_info": {
   "codemirror_mode": {
    "name": "ipython",
    "version": 3
   },
   "file_extension": ".py",
   "mimetype": "text/x-python",
   "name": "python",
   "nbconvert_exporter": "python",
   "pygments_lexer": "ipython3",
   "version": "3.8.4rc1"
  }
 },
 "nbformat": 4,
 "nbformat_minor": 4
}
